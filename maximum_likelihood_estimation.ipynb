{
 "cells": [
  {
   "cell_type": "markdown",
   "metadata": {},
   "source": [
    "### Метод наибольшего правдоподобия"
   ]
  },
  {
   "cell_type": "markdown",
   "metadata": {},
   "source": [
    "$\\xi \\sim F(x, \\theta), \\; X = (x_1, ..., x_n), \\; \\theta \\; - \\;?$\n",
    "\n",
    "$P(\\xi = x_i)=p(x_i; \\theta)$\n",
    "\n",
    "***def*** *Функция правдоподобия дискретной случайной величины* $\\xi$ называют функцию аргумента $\\theta$:\n",
    "$$L(x_1, ..., x_n; \\; \\theta) \n",
    "    = \\prod\\limits_{i=1}^n p(x_i; \\theta) \\equiv L(X, \\theta) \\notag$$\n",
    "    \n",
    "$$\\boxed {\\theta^*=argmax L(X, \\theta)}, \\notag$$\n",
    "оценка максимального правдоподобия.\n",
    "\n",
    "$exp(ln\\;L)=exp(ln (\\prod\\limits_{i=1}^n p(x_i; \\theta)))=exp(\\sum\\limits_{i=1}^n ln (p(x_i; \\theta)))$\n",
    "\n",
    "$\\frac{d\\;ln\\;L}{d\\theta} = 0, \\; \\frac{d^2\\;ln\\;L}{d\\theta^2} < 0, \\theta = \\theta^* \\Rightarrow \\theta^* -$ ОМП $\\theta$\n",
    "\n",
    "#### Свойства ОМП\n",
    "- cостоятельность: $n \\to \\infty \\Rightarrow \\theta^* \\to \\theta$\n",
    "- асимптотическая нормальность: $\\to \\infty \\Rightarrow \n",
    "    \\theta^* \\sim N(\\theta, I^{-1}(\\theta))  $, где $I$ - информация Фишера.\n",
    "    \n"
   ]
  },
  {
   "cell_type": "markdown",
   "metadata": {},
   "source": [
    "$ y = a(x) + \\varepsilon$, где $\\varepsilon$ - случайный шум.\n",
    "\n",
    "- $\\varepsilon \\sim N(0, 1) \\Rightarrow a_*(x)=argmin \\frac{1}{l} \\sum\\limits_{i=1}^{n}(a(x_i)-y_i)^2 = \\theta^* - ОМП \\;\\theta$\n",
    "\n",
    "- $\\varepsilon \\sim F_\\varepsilon(\\alpha, \\beta=0)$, где $p\\varepsilon(x) = \\frac{\\alpha}{2}e^{-\\alpha|x|}$ - распределение Лапласа $\\Rightarrow a_*(x)=argmin \\frac{1}{l} \\sum\\limits_{i=1}^{n}|a(x_i)-y_i| = \\theta^* - ОМП \\; \\theta$\n",
    "    "
   ]
  }
 ],
 "metadata": {
  "kernelspec": {
   "display_name": "Python 3",
   "language": "python",
   "name": "python3"
  },
  "language_info": {
   "codemirror_mode": {
    "name": "ipython",
    "version": 3
   },
   "file_extension": ".py",
   "mimetype": "text/x-python",
   "name": "python",
   "nbconvert_exporter": "python",
   "pygments_lexer": "ipython3",
   "version": "3.7.7"
  },
  "latex_envs": {
   "LaTeX_envs_menu_present": true,
   "autoclose": false,
   "autocomplete": false,
   "bibliofile": "biblio.bib",
   "cite_by": "apalike",
   "current_citInitial": 1,
   "eqLabelWithNumbers": false,
   "eqNumInitial": 1,
   "hotkeys": {
    "equation": "Ctrl-E",
    "itemize": "Ctrl-I"
   },
   "labels_anchors": false,
   "latex_user_defs": false,
   "report_style_numbering": false,
   "user_envs_cfg": false
  }
 },
 "nbformat": 4,
 "nbformat_minor": 4
}
