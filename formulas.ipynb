{
 "cells": [
  {
   "cell_type": "markdown",
   "metadata": {},
   "source": [
    "#### <a name='head1234'>функция Лапласа</a>"
   ]
  },
  {
   "cell_type": "markdown",
   "metadata": {},
   "source": [
    "<ul>\n",
    "    <li>$\\frac{1}{\\sqrt{2\\pi}}e^{-\\frac{t^2}{2}}$ - функция Лапласа</li>\n",
    "    <li>$\\Phi(x) = \\frac{1}{\\sqrt{2\\pi}}\\int\\limits_{-\\infty}^{x}e^{-\\frac{t^2}{2}}dt$ - функция Лапласа (интеграл вероятности);</li>\n",
    "    <li>$\\Phi_0(x) =\\frac{1}{\\sqrt{2\\pi}}\\int\\limits_{0}^{x}e^{-\\frac{t^2}{2}}dt$</li> - нормированная функция Лапласа (нормированный интеграл вероятности);\n",
    "    <li>$erf(z)=\\frac{2}{\\sqrt{\\pi}}\\int\\limits_{0}^{z}e^{-t^2}dt$ - функция ошибок <i>(math.erf, scipy.scpecial.erf)</i>.\n",
    "</ul>"
   ]
  },
  {
   "cell_type": "markdown",
   "metadata": {},
   "source": [
    "***Спр***  \n",
    "$\n",
    "\\Phi_0(x) =\\frac{1}{\\sqrt{2\\pi}}\\int\\limits_{0}^{x}e^{-\\frac{t^2}{2}}dt = \n",
    "    \\bigg[z = \\frac{t}{\\sqrt{2}}, \\; t=\\sqrt{2}z, \\; dt = \\sqrt{2} dz\\bigg] = \n",
    "    \\frac{1}{\\sqrt{2\\pi}}\\int\\limits_{0}^{\\frac{x}{\\sqrt2}}e^{-z^2} \\sqrt{2} dz = \\\\\n",
    "   = \\frac{1}{2} \\cdot \\frac{2}{\\sqrt{\\pi}}\\int\\limits_{0}^{\\frac{x}{\\sqrt2}}e^{-z^2} dz = \n",
    "    \\frac{1}{2} erf\\big(\\frac{x}{\\sqrt2}\\big) \\Rightarrow \n",
    "$\n",
    "        $$\\boxed{\\Phi_0(x) = \\frac{1}{2} erf\\big(\\frac{x}{\\sqrt2}\\big)}$$\n",
    "\n",
    "Так же, т.к. $ f(t) = e^{-\\frac{t^2}{2}} = f(-t), \\;\n",
    "\\Phi(\\infty) = 1\\Rightarrow \\Phi_0(\\infty)=\\frac{1}{2} \\Rightarrow\n",
    "    \\frac{1}{\\sqrt{2\\pi}}\\int\\limits_{-\\infty}^{0} e^{-\\frac{t^2}{2}} = \\frac{1}{2} \\Rightarrow$ $$\\boxed{F(x) = \\Phi(x) =  \\frac{1}{2}  + \\Phi_0(x)}$$\n",
    "\n",
    "$\n",
    "F(x)=P\\{-\\infty<\\xi<x\\}=\n",
    "    \\frac{1}{\\sqrt{2\\pi}}\\int\\limits_{-\\infty}^{x}e^{-\\frac{t^2}{2}}dt =\n",
    "     \\frac{1}{\\sqrt{2\\pi}}\\int\\limits_{-\\infty}^{0}e^{-\\frac{t^2}{2}}dt +\n",
    "     \\frac{1}{\\sqrt{2\\pi}}\\int\\limits_{0}^{x}e^{-\\frac{t^2}{2}}dt = \\frac{1}{2} + \\Phi_0(x)\n",
    "$"
   ]
  },
  {
   "cell_type": "markdown",
   "metadata": {},
   "source": [
    "Различные формулы"
   ]
  },
  {
   "cell_type": "markdown",
   "metadata": {},
   "source": [
    "***2.7*** стр 69\n",
    "$$\\notag p(x) = \\lim\\limits_{\\Delta x \\to 0}\\frac{P(\\{x \\leq \\xi < x + \\Delta x \\})}{\\Delta x}$$"
   ]
  },
  {
   "cell_type": "markdown",
   "metadata": {},
   "source": [
    "***5.1, 5.2*** стр.162, 164\n",
    "$$\\notag \n",
    "    P \\{ |X-MX| \\geq \\varepsilon \\} \\leq \\frac{DX}{\\varepsilon^2} \\Leftrightarrow \n",
    "    P \\{ |X-MX|<\\varepsilon \\} \\geq 1-\\frac{DX}{\\varepsilon^2}$$"
   ]
  },
  {
   "cell_type": "markdown",
   "metadata": {},
   "source": [
    "***5.3*** стр.164\n",
    "$$\\notag P \\{ |m-np|<\\varepsilon \\} \\geq 1-\\frac{npq}{\\varepsilon^2}$$"
   ]
  },
  {
   "cell_type": "markdown",
   "metadata": {},
   "source": [
    "***5.4*** стр.164\n",
    "$$\\notag  P \\{ |\\frac{m}{n}-p|<\\varepsilon \\} \\geq 1-\\frac{pq}{n\\varepsilon^2}$$"
   ]
  },
  {
   "cell_type": "markdown",
   "metadata": {},
   "source": [
    "**5.5, 5.6** стр.164 ***(Неравенство Маркова)***\n",
    "$$\\notag P \\{ X \\geq \\varepsilon \\} \\leq \\frac{MX}{\\varepsilon} \\Leftrightarrow \n",
    "    P \\{ X < \\varepsilon \\} \\geq 1 - \\frac{MX}{\\varepsilon}$$\n"
   ]
  },
  {
   "cell_type": "markdown",
   "metadata": {},
   "source": [
    "\n",
    "***5.7 Теорема Чебышева***\n",
    "Если случайные величины $\\xi_1, \\xi_2, ...,\\xi_n,...$ независимы и существует такое число $C>0$, что $D_{\\xi_i} \\leq C, \\; \\forall i=1, 2, ..., \\forall \\varepsilon>0$\n",
    "$$\\notag \\lim\\limits P\\bigg\\{ \\bigg| \\frac{1}{n}\\sum\\limits_{i=1}^{n}\\xi_i\n",
    "    -\\frac{1}{n}\\sum\\limits_{i=1}^{n}E_{\\xi_i} \\bigg| < \\varepsilon \\bigg\\}=1,$$\n",
    "т.е. среднее арифметическое этих случайных величин схдодится по вероятности к среднему арифметическому их МО:\n",
    "$$\\notag  \\frac{1}{n}\\sum\\limits_{i=1}^{n}\\xi_i \\xrightarrow[n \\to \\infty]{P}\n",
    "    \\frac{1}{n}\\sum\\limits_{i=1}^{n}E_{\\xi_i}$$"
   ]
  },
  {
   "cell_type": "markdown",
   "metadata": {},
   "source": [
    "**5.9 Следствие из т.Чебышева.** Если св $\\xi_1, \\xi_2,...,\\xi_n,...$ независимы и одинаково распределены, $E_\\xi=a, \\; D_\\xi=\\sigma$, то $\\forall \\varepsilon > 0$\n",
    "$$\\lim\\limits_{n\\to\\infty} P\\bigg\\{ \\bigg| \\frac{1}{n}\\sum\\limits_{i=1}^{n}\\xi_i\n",
    "    - a \\bigg| < \\varepsilon \\bigg\\}=1, \\notag $$\n",
    "т.е. среднеарифметическое СВ сходится по вероятности к математическому ожиданию $a$:\n",
    "$$\\frac{1}{n}\\sum\\limits_{i=1}^{n}\\xi_i \\xrightarrow[n \\to \\infty]{P} a \\notag $$"
   ]
  },
  {
   "cell_type": "markdown",
   "metadata": {},
   "source": [
    "\n",
    "***5.13. Теорема. (ЦПТ)*** Пусть $\\xi_1, \\xi_2,...,\\xi_n$ независимы, одинаково распределены, имеют конечные математическое ожидание $E_{\\xi_i}=a$ и дисперсию $D_{\\xi_i}=\\sigma^2, \\;\\forall i = \\overline{1, n}$. Тогда функция распределения центрированной и нормированной (стандартной) суммы этих случайных величин стремится при $n\\to\\infty$ к функции распределения стандартной нормальной случайной величины:\n",
    "$$ \\\\notag \n",
    "Z_n=\\frac{\\sum\\limits_{i=1}^{n}\\xi_i - E(\\sum\\limits_{i=1}^{n}\\xi_i)}\n",
    "    {\\sqrt{D(\\sum\\limits_{i=1}^{n}\\xi_i)}}=\n",
    "\\frac{\\sum\\limits_{i=1}^{n}\\xi_i - na}{\\sigma \\sqrt{n}},\n",
    "\\notag $$\n",
    "$$\n",
    "F_{Z_n}=P\\{Z_n < x\\} \\xrightarrow[n\\to\\infty]{} \n",
    "    \\Phi(x) =\\frac{1}{\\sqrt{2\\pi}}\\int\\limits_{-\\infty}^{x}e^{-\\frac{t^2}{2}}dt \\notag\n",
    "$$"
   ]
  },
  {
   "cell_type": "markdown",
   "metadata": {},
   "source": [
    "*Замечание.* С помощью функции Лапласа можно найти вероятность отклонения относительной частоты $\\frac{n_A}{n}$ от вероятности $p$ в $n$ независимых испытаниях. Имеет место формула\n",
    "$$ \\boxed{\n",
    "P\\bigg\\{\\bigg|\\frac{n_A}{n} - p \\bigg| \\leq \\varepsilon \\bigg\\} = 2\\Phi_0\\bigg( \\varepsilon \\cdot \\sqrt{\\frac{n}{pq}}\\bigg),\n",
    "} \\; \\forall \\varepsilon >0 \\notag$$\n",
    "$\n",
    "\\bigg|\\frac{n_A}{n} - p \\bigg| \\leq \\varepsilon  \\Rightarrow \n",
    "    -\\varepsilon \\leq \\frac{n_A}{n} - p \\leq \\varepsilon \\Rightarrow \\\\\n",
    "    \\Rightarrow  P_n\\{ np - n\\varepsilon \\leq n_A  \\leq np + n\\varepsilon \\} \\approx \n",
    "    \\frac{1}{\\sqrt{2\\pi}}\\displaystyle\\int\\limits_{-\\varepsilon \\cdot \\sqrt{\\frac{n}{pq}}}^{\\varepsilon \\cdot \\sqrt{\\frac{n}{pq}}}e^{-\\frac{t^2}{2}}dt = \n",
    "    \\frac{2}{\\sqrt{2\\pi}}\\displaystyle\\int\\limits_{0}^{\\varepsilon \\cdot \\sqrt{\\frac{n}{pq}}}e^{-\\frac{t^2}{2}}dt = 2\\Phi_0\\bigg( \\varepsilon \\cdot \\sqrt{\\frac{n}{pq}}\\bigg)\n",
    "$"
   ]
  },
  {
   "cell_type": "markdown",
   "metadata": {},
   "source": [
    "$$\\Phi_0(-x)=-\\Phi_0(x)$$\n",
    "$\n",
    "\\Phi_0(-x) =\\frac{1}{\\sqrt{2\\pi}}\\int\\limits_{0}^{-x}e^{-\\frac{t^2}{2}}dt =\n",
    "   \\bigg[z = -t, dz = -dt \\bigg] = \n",
    "   -\\frac{1}{\\sqrt{2\\pi}}\\int\\limits_{0}^{x}e^{-\\frac{z^2}{2}}dz = -\\Phi_0(x)\n",
    "$"
   ]
  },
  {
   "cell_type": "markdown",
   "metadata": {},
   "source": [
    "***7.12***\n",
    "***Эмпирической (статистической) функцией распределения*** называется функция $F_n^*(x)$, определяющая для каждого значения $x$ частость события $\\{X<x\\}$:\n",
    "$$F_n^*(x)=p^*\\{X<x\\}.$$"
   ]
  },
  {
   "cell_type": "markdown",
   "metadata": {},
   "source": [
    "***8.2***\n",
    "$$\\notag MD_в = \\frac{n-1}{n}DX.$$"
   ]
  },
  {
   "cell_type": "code",
   "execution_count": null,
   "metadata": {},
   "outputs": [],
   "source": []
  }
 ],
 "metadata": {
  "kernelspec": {
   "display_name": "Python 3",
   "language": "python",
   "name": "python3"
  },
  "language_info": {
   "codemirror_mode": {
    "name": "ipython",
    "version": 3
   },
   "file_extension": ".py",
   "mimetype": "text/x-python",
   "name": "python",
   "nbconvert_exporter": "python",
   "pygments_lexer": "ipython3",
   "version": "3.7.7"
  },
  "latex_envs": {
   "LaTeX_envs_menu_present": false,
   "autoclose": false,
   "autocomplete": false,
   "bibliofile": "biblio.bib",
   "cite_by": "apalike",
   "current_citInitial": 1,
   "eqLabelWithNumbers": false,
   "eqNumInitial": 1,
   "hotkeys": {
    "equation": "Ctrl-E",
    "itemize": "Ctrl-I"
   },
   "labels_anchors": false,
   "latex_user_defs": false,
   "report_style_numbering": false,
   "user_envs_cfg": false
  }
 },
 "nbformat": 4,
 "nbformat_minor": 4
}
