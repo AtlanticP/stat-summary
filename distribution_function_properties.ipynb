{
 "cells": [
  {
   "cell_type": "markdown",
   "metadata": {},
   "source": [
    "### 2.3 Функция распределения и ее свойства. Функция распределения дискретной случайной величины"
   ]
  },
  {
   "cell_type": "markdown",
   "metadata": {},
   "source": [
    "***Определение*** \n",
    "\n",
    "*Функцией распределения* (интегральная функция распределения) СВ $\\xi$ называется функция $F_\\xi(x)$, которая для любого числа $x \\in \\mathbb{R}$ равна вероятности события $\\{\\xi<x\\}$. Т.о.\n",
    "$$F_\\xi(x)\\overset{def}{=}P\\{\\xi<x\\}, \\text{ т.е. } F_\\xi(x)\\overset{def}{=}P\\{ \\omega: \\xi(\\omega)<x\\}$$"
   ]
  },
  {
   "cell_type": "markdown",
   "metadata": {},
   "source": [
    "***Свойства:***\n",
    "<ol>\n",
    "    <li>$F_\\xi(x)$ ограничена, т.е. \n",
    "        $$0 \\leq F(x) \\leq 1 \\notag$$</li>\n",
    "    <li>$F_\\xi(x)$ - неубывающая функция на $\\mathbb{R}$, т.е. если $x_2 \\geq x_1$, то \n",
    "        $$F(x_2) \\geq F(x_1) \\notag$$</li>\n",
    "    <li>$F(-\\infty)=0, \\qquad F(+\\infty)=1$</li>\n",
    "    <li>$P\\{a \\leq \\xi < b\\}=F(b)-F(a)$</li>\n",
    "    <li>$\\lim\\limits_{x\\to {x_0-0}}F(x)=F(x_0)$\n",
    "</ol>"
   ]
  },
  {
   "cell_type": "markdown",
   "metadata": {},
   "source": [
    "$P\\{\\xi \\geq x\\} = 1-F(x)$"
   ]
  }
 ],
 "metadata": {
  "kernelspec": {
   "display_name": "Python 3",
   "language": "python",
   "name": "python3"
  },
  "language_info": {
   "codemirror_mode": {
    "name": "ipython",
    "version": 3
   },
   "file_extension": ".py",
   "mimetype": "text/x-python",
   "name": "python",
   "nbconvert_exporter": "python",
   "pygments_lexer": "ipython3",
   "version": "3.7.7"
  },
  "latex_envs": {
   "LaTeX_envs_menu_present": true,
   "autoclose": false,
   "autocomplete": false,
   "bibliofile": "biblio.bib",
   "cite_by": "apalike",
   "current_citInitial": 1,
   "eqLabelWithNumbers": false,
   "eqNumInitial": 1,
   "hotkeys": {
    "equation": "Ctrl-E",
    "itemize": "Ctrl-I"
   },
   "labels_anchors": false,
   "latex_user_defs": false,
   "report_style_numbering": false,
   "user_envs_cfg": false
  }
 },
 "nbformat": 4,
 "nbformat_minor": 4
}
