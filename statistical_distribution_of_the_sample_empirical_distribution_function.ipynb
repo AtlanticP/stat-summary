{
 "cells": [
  {
   "cell_type": "code",
   "execution_count": 1,
   "metadata": {},
   "outputs": [],
   "source": [
    "import numpy as np \n",
    "import pandas as pd\n",
    "from collections import Counter\n",
    "import scipy.stats as sts\n",
    "import sympy as sm \n",
    "import matplotlib.pyplot as plt\n",
    "plt.style.use(\"dark_background\")"
   ]
  },
  {
   "cell_type": "markdown",
   "metadata": {},
   "source": [
    "#### ***7.3. Статистическое распределение выборки. Эмпирическая функция распределения.***"
   ]
  },
  {
   "cell_type": "markdown",
   "metadata": {},
   "source": [
    "Пусть изучается некоторая СВ $X$. С этой целью над СВ $X$ производится ряд независимых опытов (наблюдений). В каждом из этих опытов величина $X$ принимает то или иное значение.\n",
    "\n",
    "Пусть она приняла $n_1$ раз значение $x_1$, $n_2$ раз - значение $x_2$, ..., $n_k$ раз - значение $x_k$. При этом $n_1+n_2+...+n_k = n $ - объем выборки: \n",
    "<ul>\n",
    "    <li>значения $x_1, x_2, ..., x_k$ называются <i>вариантами</i> СВ $X$;</li>\n",
    "    <li>операция расположения значений СВ (признака) по неубыванию называется <i>ранжированием</i> статистических данныхю Полученная таким образом последовательность $x_{(1)},x_{(2)},...,x_{(n)}$ значенией СВ $X$, где $x_{(1)} \\leq x_{(2)}\\leq...\\leq x_{(n)}$ и $x_1 = \\underset {1\\leq i \\leq n}{min} X_i, ..., x_n = \\underset {1\\leq i \\leq n}{max} X_i$ называется <i>вариационным рядом</i>;</li>\n",
    "    <li>$p^*=\\frac{n_i}{n}$ - относительные частоты;</li>\n",
    "    <li>перечень вариантов и соответствующих им частот называется *статистическим распределением выборки* или <i>статистическим рядом</i>.</li>\n",
    "</ul>\n",
    "    \n",
    "\n"
   ]
  },
  {
   "cell_type": "code",
   "execution_count": 2,
   "metadata": {},
   "outputs": [
    {
     "name": "stdout",
     "output_type": "stream",
     "text": [
      "Выборка: \n",
      "[5, 3, 4, 0, 1, 3, 5, 0, 0, 1, 4, 5, 4, 1, 2, 4, 5, 2, 4, 3] \n",
      "\n",
      "Вариационный ряд:\n",
      "[0, 1, 2, 3, 4, 5] \n",
      "\n",
      "Статистический ряд (статистическое распределение выборки): \n"
     ]
    },
    {
     "data": {
      "text/html": [
       "<div>\n",
       "<style scoped>\n",
       "    .dataframe tbody tr th:only-of-type {\n",
       "        vertical-align: middle;\n",
       "    }\n",
       "\n",
       "    .dataframe tbody tr th {\n",
       "        vertical-align: top;\n",
       "    }\n",
       "\n",
       "    .dataframe thead th {\n",
       "        text-align: right;\n",
       "    }\n",
       "</style>\n",
       "<table border=\"1\" class=\"dataframe\">\n",
       "  <thead>\n",
       "    <tr style=\"text-align: right;\">\n",
       "      <th></th>\n",
       "      <th></th>\n",
       "      <th></th>\n",
       "      <th></th>\n",
       "      <th></th>\n",
       "      <th></th>\n",
       "      <th></th>\n",
       "    </tr>\n",
       "  </thead>\n",
       "  <tbody>\n",
       "    <tr>\n",
       "      <th>$X$</th>\n",
       "      <td>0</td>\n",
       "      <td>1</td>\n",
       "      <td>2</td>\n",
       "      <td>3</td>\n",
       "      <td>4</td>\n",
       "      <td>5</td>\n",
       "    </tr>\n",
       "    <tr>\n",
       "      <th>$n_i$</th>\n",
       "      <td>3</td>\n",
       "      <td>3</td>\n",
       "      <td>2</td>\n",
       "      <td>3</td>\n",
       "      <td>5</td>\n",
       "      <td>4</td>\n",
       "    </tr>\n",
       "  </tbody>\n",
       "</table>\n",
       "</div>"
      ],
      "text/plain": [
       "                       \n",
       "$X$    0  1  2  3  4  5\n",
       "$n_i$  3  3  2  3  5  4"
      ]
     },
     "metadata": {},
     "output_type": "display_data"
    },
    {
     "data": {
      "text/html": [
       "<div>\n",
       "<style scoped>\n",
       "    .dataframe tbody tr th:only-of-type {\n",
       "        vertical-align: middle;\n",
       "    }\n",
       "\n",
       "    .dataframe tbody tr th {\n",
       "        vertical-align: top;\n",
       "    }\n",
       "\n",
       "    .dataframe thead th {\n",
       "        text-align: right;\n",
       "    }\n",
       "</style>\n",
       "<table border=\"1\" class=\"dataframe\">\n",
       "  <thead>\n",
       "    <tr style=\"text-align: right;\">\n",
       "      <th></th>\n",
       "      <th></th>\n",
       "      <th></th>\n",
       "      <th></th>\n",
       "      <th></th>\n",
       "      <th></th>\n",
       "      <th></th>\n",
       "    </tr>\n",
       "  </thead>\n",
       "  <tbody>\n",
       "    <tr>\n",
       "      <th>$X$</th>\n",
       "      <td>0.00</td>\n",
       "      <td>1.00</td>\n",
       "      <td>2.0</td>\n",
       "      <td>3.00</td>\n",
       "      <td>4.00</td>\n",
       "      <td>5.0</td>\n",
       "    </tr>\n",
       "    <tr>\n",
       "      <th>$p^*$</th>\n",
       "      <td>0.15</td>\n",
       "      <td>0.15</td>\n",
       "      <td>0.1</td>\n",
       "      <td>0.15</td>\n",
       "      <td>0.25</td>\n",
       "      <td>0.2</td>\n",
       "    </tr>\n",
       "  </tbody>\n",
       "</table>\n",
       "</div>"
      ],
      "text/plain": [
       "                                       \n",
       "$X$    0.00  1.00  2.0  3.00  4.00  5.0\n",
       "$p^*$  0.15  0.15  0.1  0.15  0.25  0.2"
      ]
     },
     "execution_count": 2,
     "metadata": {},
     "output_type": "execute_result"
    }
   ],
   "source": [
    "n = 20   # объем выборки\n",
    "v = 6    # кол-во значений СВ\n",
    "np.random.seed(1)\n",
    "rvs = np.random.randint(v, size=n).tolist()  # генерация частостей\n",
    "print('Выборка: ')\n",
    "freqs = Counter(rvs)\n",
    "print(rvs, '\\n')\n",
    "print('Вариационный ряд:') \n",
    "print(sorted(freqs.keys()), '\\n')\n",
    "\n",
    "print('Статистический ряд (статистическое распределение выборки): ')\n",
    "freqs = dict(sorted(freqs.items(), key=lambda x: x[0]))\n",
    "display(pd.DataFrame([freqs.keys(), freqs.values()], columns=['']*v, index=['$X$', r'$n_i$']))\n",
    "\n",
    "freqs = {rv: freq/n for rv, freq in freqs.items()}\n",
    "pd.DataFrame([freqs.keys(), freqs.values()], columns=['']*v, index=['$X$', r'$p^*$'])"
   ]
  },
  {
   "cell_type": "markdown",
   "metadata": {},
   "source": [
    "*Статистическое распределение выборки является оценкой неизвестного распределения.* В соответствии с теоремой Бернулли относительные частоты $p_i^*$ сходятся при $n \\to \\infty$ к соответствующим вероятностям $p_i$, т.е. $p_i^* \\xrightarrow[n\\to \\infty]{p} p_i$. Поэтом при больших значениях $n$ статистическое распределение мало отличается от истинного распределения."
   ]
  },
  {
   "cell_type": "markdown",
   "metadata": {},
   "source": [
    "В случае, когда число значенйи признака (СВ $X$) велико или признак является непрерывным, составляют ***интервальный статистический ряд***. В первую строку таблицы статистического распределения вписывают частичные промежутки $[x_0, x_1), [x_1, x_2),..., [x_{k-1}, x_k)$, которые берут обычно одинаковыми по длине:  $h=x_1-x_0 = x_2-x_1 = ...$ . Для определения величины интервала (h) можно использовать формулу Стерджеса:\n",
    "$$\\notag h = \\frac{x_{max} - x_{min}}{1+\\log_2 n}$$"
   ]
  },
  {
   "cell_type": "markdown",
   "metadata": {},
   "source": [
    "***Пример.*** Измерили рост (с точностью до см) 30 наудачу отобранных студентов. Результаты измерений таковы:"
   ]
  },
  {
   "cell_type": "code",
   "execution_count": 3,
   "metadata": {
    "scrolled": true
   },
   "outputs": [
    {
     "name": "stdout",
     "output_type": "stream",
     "text": [
      "Проранжируем полученные данные:\n",
      "[159, 165, 165, 166, 166, 167, 169, 170, 172, 172, 172, 173, 173, 173, 173, 173, 176, 176, 176, 177, 177, 177, 180, 181, 182, 182, 182, 183, 185, 187]\n"
     ]
    },
    {
     "data": {
      "text/latex": [
       "$\\displaystyle h = \\frac{x_{max} - x_{min}}{\\frac{\\log{\\left(n \\right)}}{\\log{\\left(2 \\right)}} + 1}$"
      ],
      "text/plain": [
       "Eq(h, (x_max - x_min)/(log(n)/log(2) + 1))"
      ]
     },
     "metadata": {},
     "output_type": "display_data"
    },
    {
     "name": "stdout",
     "output_type": "stream",
     "text": [
      "Ширина интервала (h) равна 5\n"
     ]
    }
   ],
   "source": [
    "# np.random.seed(2)\n",
    "l = 30 # объем выборки\n",
    "rvs = sts.norm(loc=176, scale=7).rvs(l).astype('int')  # генерируем выборку\n",
    "\n",
    "print('Проранжируем полученные данные:')\n",
    "rvs = sorted(rvs)\n",
    "print(rvs)\n",
    "\n",
    "# посчитаем величину интервала (h)\n",
    "x_max, x_min, n, h = sm.symbols('x_max x_min n h')\n",
    "interval = (x_max-x_min)/(1+sm.log(n, 2))\n",
    "display(sm.Eq(h, interval))\n",
    "h = np.ceil(interval.evalf(subs = {x_max: rvs[-1], x_min: rvs[0], n: l}))\n",
    "print('Ширина интервала (h) равна', h)"
   ]
  },
  {
   "cell_type": "code",
   "execution_count": 4,
   "metadata": {},
   "outputs": [
    {
     "name": "stdout",
     "output_type": "stream",
     "text": [
      "[[159], [165, 165, 166, 166, 167], [169, 170, 172, 172, 172, 173, 173, 173, 173, 173], [176, 176, 176, 177, 177, 177], [180, 181, 182, 182, 182, 183], [185, 187]]\n",
      "Интервальный статистический ряд: \n"
     ]
    },
    {
     "data": {
      "text/html": [
       "<div>\n",
       "<style scoped>\n",
       "    .dataframe tbody tr th:only-of-type {\n",
       "        vertical-align: middle;\n",
       "    }\n",
       "\n",
       "    .dataframe tbody tr th {\n",
       "        vertical-align: top;\n",
       "    }\n",
       "\n",
       "    .dataframe thead th {\n",
       "        text-align: right;\n",
       "    }\n",
       "</style>\n",
       "<table border=\"1\" class=\"dataframe\">\n",
       "  <thead>\n",
       "    <tr style=\"text-align: right;\">\n",
       "      <th></th>\n",
       "      <th>[159, 164)</th>\n",
       "      <th>[164, 169)</th>\n",
       "      <th>[169, 174)</th>\n",
       "      <th>[174, 179)</th>\n",
       "      <th>[179, 184)</th>\n",
       "      <th>[184, 187)</th>\n",
       "    </tr>\n",
       "  </thead>\n",
       "  <tbody>\n",
       "    <tr>\n",
       "      <th>Частота</th>\n",
       "      <td>1.000000</td>\n",
       "      <td>5.000000</td>\n",
       "      <td>10.000000</td>\n",
       "      <td>6.0</td>\n",
       "      <td>6.0</td>\n",
       "      <td>2.000000</td>\n",
       "    </tr>\n",
       "    <tr>\n",
       "      <th>Частость</th>\n",
       "      <td>0.033333</td>\n",
       "      <td>0.166667</td>\n",
       "      <td>0.333333</td>\n",
       "      <td>0.2</td>\n",
       "      <td>0.2</td>\n",
       "      <td>0.066667</td>\n",
       "    </tr>\n",
       "  </tbody>\n",
       "</table>\n",
       "</div>"
      ],
      "text/plain": [
       "          [159, 164)  [164, 169)  [169, 174)  [174, 179)  [179, 184)  \\\n",
       "Частота     1.000000    5.000000   10.000000         6.0         6.0   \n",
       "Частость    0.033333    0.166667    0.333333         0.2         0.2   \n",
       "\n",
       "          [184, 187)  \n",
       "Частота     2.000000  \n",
       "Частость    0.066667  "
      ]
     },
     "metadata": {},
     "output_type": "display_data"
    },
    {
     "name": "stdout",
     "output_type": "stream",
     "text": [
      "True\n",
      "True\n"
     ]
    }
   ],
   "source": [
    "# получим интервальный статистический ряд\n",
    "rvs_ = rvs.copy()\n",
    "\n",
    "intervals, variations = [], []      # интервалы, варианты\n",
    "i = rvs_[0]                     \n",
    "rv = rvs_.pop(0)\n",
    "\n",
    "while rvs_:\n",
    "    \n",
    "    subint = []\n",
    "    i += h\n",
    "    # import pdb; pdb.set_trace()\n",
    "\n",
    "    while rv<i and rvs_:\n",
    "            \n",
    "            subint.append(rv)\n",
    "            rv = rvs_.pop(0)\n",
    "    \n",
    "    intervals.append(f'[{i-h}, {i})')\n",
    "    variations.append(subint)\n",
    "\n",
    "if rv: \n",
    "    variations[-1].append(rv)\n",
    "    del intervals[-1]\n",
    "    intervals.append(f'[{i-h}, {rv})')\n",
    "    \n",
    "series = {i: (len(v), len(v)/l) for i, v in zip(intervals, variations)}\n",
    "print(variations)\n",
    "print('Интервальный статистический ряд: ')\n",
    "series = pd.DataFrame(series, index=('Частота', 'Частость')) \n",
    "display(series)\n",
    "\n",
    "# проверим результаты\n",
    "print(int(series.iloc[0, :].sum()) == l)   # кол-во испытаний\n",
    "print(series.iloc[1, :].sum() == 1)        # сумма всех частот "
   ]
  },
  {
   "cell_type": "markdown",
   "metadata": {},
   "source": [
    "***Эмпирической (статистической) функцией распределения*** называется функция $F_n^*(x)$, определяющая для каждого значения $x$ частость события $\\{X<x\\}$:\n",
    "$$F_n^*(x)=p^*\\{X<x\\}.$$\n",
    "\n",
    "***Теорема*** Пусть $F_n^*(x)$ - теоретическая фыункция распределения СВ $X$, а $F_n^*(x)$ - эмпирическая. Тогда для любого $\\varepsilon > 0$\n",
    "$$\\lim\\limits_{n\\to\\infty}P\\{|F_n^*(x) - F(x) | <\\varepsilon \\}=1 \\notag$$"
   ]
  },
  {
   "cell_type": "markdown",
   "metadata": {},
   "source": [
    "***Пример.***  Построить функцию $F_n^*(x)$."
   ]
  },
  {
   "cell_type": "code",
   "execution_count": 5,
   "metadata": {
    "scrolled": false
   },
   "outputs": [
    {
     "name": "stdout",
     "output_type": "stream",
     "text": [
      "Выборка:\n",
      "[9 8 6 9 3 7 7 4 5 9 3 6 8 0 2 7 7 9 7 3]\n"
     ]
    },
    {
     "data": {
      "text/html": [
       "<div>\n",
       "<style scoped>\n",
       "    .dataframe tbody tr th:only-of-type {\n",
       "        vertical-align: middle;\n",
       "    }\n",
       "\n",
       "    .dataframe tbody tr th {\n",
       "        vertical-align: top;\n",
       "    }\n",
       "\n",
       "    .dataframe thead th {\n",
       "        text-align: right;\n",
       "    }\n",
       "</style>\n",
       "<table border=\"1\" class=\"dataframe\">\n",
       "  <thead>\n",
       "    <tr style=\"text-align: right;\">\n",
       "      <th></th>\n",
       "      <th>0</th>\n",
       "      <th>2</th>\n",
       "      <th>3</th>\n",
       "      <th>4</th>\n",
       "      <th>5</th>\n",
       "      <th>6</th>\n",
       "      <th>7</th>\n",
       "      <th>8</th>\n",
       "      <th>9</th>\n",
       "    </tr>\n",
       "  </thead>\n",
       "  <tbody>\n",
       "    <tr>\n",
       "      <th>$p^*$</th>\n",
       "      <td>0.05</td>\n",
       "      <td>0.05</td>\n",
       "      <td>0.15</td>\n",
       "      <td>0.05</td>\n",
       "      <td>0.05</td>\n",
       "      <td>0.1</td>\n",
       "      <td>0.25</td>\n",
       "      <td>0.1</td>\n",
       "      <td>0.2</td>\n",
       "    </tr>\n",
       "  </tbody>\n",
       "</table>\n",
       "</div>"
      ],
      "text/plain": [
       "          0     2     3     4     5    6     7    8    9\n",
       "$p^*$  0.05  0.05  0.15  0.05  0.05  0.1  0.25  0.1  0.2"
      ]
     },
     "metadata": {},
     "output_type": "display_data"
    },
    {
     "data": {
      "image/png": "[encoded data removed]",
      "text/plain": [
       "<Figure size 432x288 with 1 Axes>"
      ]
     },
     "metadata": {},
     "output_type": "display_data"
    }
   ],
   "source": [
    "# генерируем выборку объемом n\n",
    "n=20\n",
    "mx = 10\n",
    "# np.random.seed(2)\n",
    "rvs = np.random.randint(0, mx, size=n)\n",
    "print('Выборка:')\n",
    "print(rvs)\n",
    "\n",
    "# строим статистический ряд\n",
    "series = {rv: n_i/n for rv, n_i in Counter(rvs).items()}\n",
    "series = dict(sorted(series.items()))\n",
    "\n",
    "display(pd.DataFrame(series, index=['$p^*$']))\n",
    "\n",
    "# считаем эмпирическую функция распределения\n",
    "F = []\n",
    "i = 0\n",
    "for p in series.values():\n",
    "    i += p\n",
    "    F.append(i)\n",
    "    \n",
    "# визуализируем ее\n",
    "plt.hlines(y=F, xmin=series.keys(), xmax=np.array(list(series.keys()))+1, color='r')\n",
    "plt.xlabel(r'$n$', fontsize=15, labelpad=15, color='grey')\n",
    "plt.ylabel(r'$F_n^*(x)$', fontsize=15, labelpad=25, color='grey', rotation=0)\n",
    "plt.xticks(list(range(mx)), visible=True)\n",
    "plt.yticks(F)\n",
    "plt.title('График эмпирической функции распределения')\n",
    "\n",
    "# plt.legend(prop={'size': 23}, loc='best')\n",
    "plt.show()"
   ]
  }
 ],
 "metadata": {
  "kernelspec": {
   "display_name": "Python 3",
   "language": "python",
   "name": "python3"
  },
  "language_info": {
   "codemirror_mode": {
    "name": "ipython",
    "version": 3
   },
   "file_extension": ".py",
   "mimetype": "text/x-python",
   "name": "python",
   "nbconvert_exporter": "python",
   "pygments_lexer": "ipython3",
   "version": "3.7.7"
  },
  "latex_envs": {
   "LaTeX_envs_menu_present": true,
   "autoclose": false,
   "autocomplete": false,
   "bibliofile": "biblio.bib",
   "cite_by": "apalike",
   "current_citInitial": 1,
   "eqLabelWithNumbers": false,
   "eqNumInitial": 1,
   "hotkeys": {
    "equation": "Ctrl-E",
    "itemize": "Ctrl-I"
   },
   "labels_anchors": false,
   "latex_user_defs": false,
   "report_style_numbering": false,
   "user_envs_cfg": false
  }
 },
 "nbformat": 4,
 "nbformat_minor": 4
}
