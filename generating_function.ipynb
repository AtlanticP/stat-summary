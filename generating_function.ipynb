{
 "cells": [
  {
   "cell_type": "markdown",
   "metadata": {},
   "source": [
    "#### 2.6 Производящая функция\n",
    "\n",
    "Пусть ДСВ $\\xi$ принимает значения: $0, 1, 2,..., k,...$ с вероятностью $p_0, p_1, ..., p_k={\\xi=k},... $\n",
    "***Производящей функцией*** для ДСВ $\\xi$ называется функция вида\n",
    "$$ \\Phi_\\xi(z) = \\sum\\limits_{k=0}^\\infty p_kz^k=p_0+p_1z+p_2z^2+..., $$\n",
    "где $z$ - произвольный параметр: $0<z\\leq1$\n",
    "\n",
    "$$\n",
    "\\Phi_\\xi'(z) = \\sum\\limits_{k=0}^\\infty kp_kz^{k-1} \\Rightarrow \n",
    "\\Phi_\\xi'(1) = \\boxed{\\sum\\limits_{k=0}^\\infty kp_k = E_\\xi}\n",
    "$$\n",
    "\n",
    "$$\n",
    "\\Phi_\\xi''(z) = \\sum\\limits_{k=0}^\\infty k(k-1)p_kz^{k-2} \\Rightarrow \n",
    "\\Phi_\\xi''(1) = \\boxed{\\sum\\limits_{k=0}^\\infty k^2p_k - \\sum\\limits_{k=0}^\\infty kp_k = E_{\\xi^2}-E_{\\xi}}\n",
    "$$\n",
    "\n",
    "$$\n",
    "\\text{Т.к. } D_\\xi=E_\\xi^2-(E_\\xi)^2 \\Rightarrow \\boxed{D_\\xi=\\Phi_\\xi''(1) + \\Phi_\\xi'(1) - (\\Phi_\\xi'(1))^2}\n",
    "$$\n"
   ]
  },
  {
   "cell_type": "markdown",
   "metadata": {},
   "source": [
    "**Пример** Найти дисперсию СВ $\\xi$ \n",
    "$$\n",
    "\\begin{array}{|c|c|с|c|c|}\n",
    "\\hline X   & 0 & 1  & 2    & 3   \\\\\\hline\n",
    " P(\\xi = k)  & 0.01 & 0.027 & 0.243 & 0.729  \\\\\\hline\n",
    "\\end{array} \\notag\n",
    "$$\n",
    "\n",
    "$\\Phi(z)=0.01 + 0.027z+0.243z^2+0.729z^3$"
   ]
  },
  {
   "cell_type": "code",
   "execution_count": 29,
   "metadata": {},
   "outputs": [
    {
     "name": "stdout",
     "output_type": "stream",
     "text": [
      "Производящая функция\n"
     ]
    },
    {
     "data": {
      "text/latex": [
       "$\\displaystyle 0.729 z^{3} + 0.243 z^{2} + 0.027 z + 0.01$"
      ],
      "text/plain": [
       "0.729*z**3 + 0.243*z**2 + 0.027*z + 0.01"
      ]
     },
     "metadata": {},
     "output_type": "display_data"
    },
    {
     "name": "stdout",
     "output_type": "stream",
     "text": [
      "Дисперсия СВ равна 0.269999999999998\n"
     ]
    }
   ],
   "source": [
    "from sympy import symbols\n",
    "z = symbols('z')\n",
    "P = [0.01, 0.027, 0.243, 0.729]\n",
    "f = sum([p*z**i for i, p in enumerate(P)])\n",
    "print('Производящая функция')\n",
    "display(f)\n",
    "D = f.diff(z, 2) + f.diff(z, 1) - f.diff(z, 1)**2\n",
    "print(f'Дисперсия СВ равна {D.subs(z, 1 )}')"
   ]
  },
  {
   "cell_type": "code",
   "execution_count": null,
   "metadata": {},
   "outputs": [],
   "source": []
  }
 ],
 "metadata": {
  "kernelspec": {
   "display_name": "Python 3",
   "language": "python",
   "name": "python3"
  },
  "language_info": {
   "codemirror_mode": {
    "name": "ipython",
    "version": 3
   },
   "file_extension": ".py",
   "mimetype": "text/x-python",
   "name": "python",
   "nbconvert_exporter": "python",
   "pygments_lexer": "ipython3",
   "version": "3.7.7"
  },
  "latex_envs": {
   "LaTeX_envs_menu_present": true,
   "autoclose": false,
   "autocomplete": true,
   "bibliofile": "biblio.bib",
   "cite_by": "apalike",
   "current_citInitial": 1,
   "eqLabelWithNumbers": false,
   "eqNumInitial": 1,
   "hotkeys": {
    "equation": "Ctrl-E",
    "itemize": "Ctrl-I"
   },
   "labels_anchors": true,
   "latex_user_defs": false,
   "report_style_numbering": false,
   "user_envs_cfg": false
  }
 },
 "nbformat": 4,
 "nbformat_minor": 4
}
