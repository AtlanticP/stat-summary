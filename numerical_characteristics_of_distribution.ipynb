{
 "cells": [
  {
   "cell_type": "code",
   "execution_count": 19,
   "metadata": {},
   "outputs": [],
   "source": [
    "import scipy.stats as sts\n",
    "import numpy as np\n",
    "from collections import Counter\n",
    "import pandas as pd"
   ]
  },
  {
   "cell_type": "markdown",
   "metadata": {},
   "source": [
    "#### ***7.5. Числовые характеристики статистического распределения***"
   ]
  },
  {
   "cell_type": "markdown",
   "metadata": {},
   "source": [
    "Пусть статистическое распределение выборки объема $n$ имеет вид:\n",
    "$$\n",
    "\\begin{array}{|c|c|с|c|c|}\n",
    "\\hline x_i  & x_1 & x_2 & ... & x_k  \\\\\n",
    "\\hline n_i  & n_1 & n_2 & ... & n_k  \\\\\n",
    "\\hline\n",
    "\\end{array} \\notag\n",
    "$$\n",
    "***Выборочным средним $\\overline{x_B}$*** называется среднее арифметическое всех значений выборки:\n",
    "$$ \\notag\n",
    "M\\overline{x_B} = \\frac{1}{n}\\sum\\limits_{i=1}^{k}x_i \\cdot n_i \\Leftrightarrow \n",
    "    \\sum\\limits_{i=1}^{k}x_i \\cdot p^*_i\n",
    "$$\n",
    "Отметим, что в случае интервального статистического ряда в качестве $x_i$ берут середины его интервалов, а $n_i$ соответствующие им частоты.\n",
    "\n",
    "***Выборочной дисперсией $D_B$*** называется среднее арифметическое квадратов отклонений значений выборки от выборочной средней $\\overline{x_в}$, т.е.\n",
    "$$ \\notag\n",
    "D_B = \\frac{1}{n}\\sum\\limits_{i=1}^{k}(x_i-\\overline{x_в})^2 \\cdot n_i \\Leftrightarrow\n",
    "    \\frac{1}{n}\\sum\\limits_{i=1}^{k}x_i^2 \\cdot n_i - (\\overline{x_в})^2\n",
    "$$\n",
    "\n",
    "***Выборочной среднее квадратное отклонение*** выборки определяется формулой\n",
    "$$ \\notag\n",
    "    \\sigma_в = \\sqrt{D_в}\n",
    "$$\n",
    "\n",
    "При решении практических задач используется и величина\n",
    "$$ \\notag\n",
    "    S^2 = \\frac{1}{n-1}\\cdot \\sum\\limits_{i=1}^{k}(x_i-\\overline{x_в})^2 \\cdot n, \n",
    "$$\n",
    "т.е.\n",
    "$$ \\notag\n",
    "    S^2 = \\frac{n}{n-1}D_в,\n",
    "$$ \n",
    "которая называется [***исправленной выборочной дисперсией***](#bessels_correction).\n",
    "\n",
    "Величина $$\\notag S=\\sqrt{S^2}$$ называется ***исправленным выборочным средним квадратическим отклонением.***\n",
    "\n",
    "Для непрерывно распределенного признака формулы для выборочных средних будут такими же, но за значения $x_1, x_2, ..., x_k$ надо брать не концы промежутков $[x_0, x_1), [x_1, x_2), ...$,  а их середины $\\frac{x_0+x_1}{2}, \\frac{x_1+x_2}{2}, ...$\n",
    "\n",
    "В качестве описательных характеристик вариационного ряда $x_{(1)}, x_{(2)},..., x_{(2)}$ (или полученного из него статистичесеского распределения выборки) используется медиана, мода, размах вариации (выборки) и т.д.\n",
    "\n",
    "***Размах вариации*** называется число $R=x_{(n)}-x_{(1)}$, где $x_{(1)} = \n",
    "    \\underset {1 \\leq x_k\\leq n}{min}\\;x_k, \\; x_{(n)}= \\underset {1 \\leq x_k\\leq n}{max}\\;x_k$.\n",
    "    \n",
    "***Модой $M_o^*$*** вариационного ряда назыается вариант, имеющий наибольшую частоту.\n",
    "\n",
    "***Медианной $M_e^*$*** вариационного ряда назыается значение признака (СВ $X$), приходящееся на середину ряда.\n",
    "\n",
    "Если $n=2k$ (т.е. ряда $x_{(1)}, x_{(2)}, ..., x_{(k)}, x_{(k+1)}, ..., x_{(2k)}$ имеет четное число членов), то $M_e^*=\\frac{x_{(k)}+x_{(k+1)}}{2}$; если $n = 2k+1$, то \n",
    "    $M_e^*=x_{(k+1)}$."
   ]
  },
  {
   "cell_type": "markdown",
   "metadata": {},
   "source": [
    "Найти характеристики выборки - результаты тестирования 10 абитуриентов."
   ]
  },
  {
   "cell_type": "code",
   "execution_count": 101,
   "metadata": {},
   "outputs": [
    {
     "data": {
      "text/plain": [
       "'Вариационный ряд:'"
      ]
     },
     "metadata": {},
     "output_type": "display_data"
    },
    {
     "data": {
      "text/html": [
       "<div>\n",
       "<style scoped>\n",
       "    .dataframe tbody tr th:only-of-type {\n",
       "        vertical-align: middle;\n",
       "    }\n",
       "\n",
       "    .dataframe tbody tr th {\n",
       "        vertical-align: top;\n",
       "    }\n",
       "\n",
       "    .dataframe thead th {\n",
       "        text-align: right;\n",
       "    }\n",
       "</style>\n",
       "<table border=\"1\" class=\"dataframe\">\n",
       "  <thead>\n",
       "    <tr style=\"text-align: right;\">\n",
       "      <th></th>\n",
       "      <th>2</th>\n",
       "      <th>3</th>\n",
       "      <th>4</th>\n",
       "      <th>5</th>\n",
       "    </tr>\n",
       "  </thead>\n",
       "  <tbody>\n",
       "    <tr>\n",
       "      <th>$p*$</th>\n",
       "      <td>0.1</td>\n",
       "      <td>0.3</td>\n",
       "      <td>0.5</td>\n",
       "      <td>0.1</td>\n",
       "    </tr>\n",
       "  </tbody>\n",
       "</table>\n",
       "</div>"
      ],
      "text/plain": [
       "        2    3    4    5\n",
       "$p*$  0.1  0.3  0.5  0.1"
      ]
     },
     "metadata": {},
     "output_type": "display_data"
    },
    {
     "name": "stdout",
     "output_type": "stream",
     "text": [
      "Выборочное среднее: 3.6\n",
      "Выборочная дисперсия: 0.64, среднеквадратическое отклонение 0.8\n",
      "Исправленная выборочная дисперсия:  0.7111\n",
      "Исправленное выборочное среднее квадратическое отклонение 0.8433\n",
      "Мода:  4\n",
      "Медиана:  3.5\n"
     ]
    }
   ],
   "source": [
    "n = 10\n",
    "np.random.seed(32)\n",
    "rvs = sts.norm(3.5, 1).rvs(10).astype(int)\n",
    "\n",
    "# строим ряд\n",
    "series = {rv: n_i/n for rv, n_i in Counter(rvs).items()}\n",
    "series = dict(sorted(series.items(), key = lambda x: x[0]))\n",
    "df = pd.DataFrame(series, index=[r'$p*$'])\n",
    "display('Вариационный ряд:', df )\n",
    "\n",
    "# выборочное сренднее (rvs.mean())\n",
    "X_mean = sum([x*p for x, p in series.items()])\n",
    "print('Выборочное среднее:', round(X_mean, 4))\n",
    "\n",
    "# выборочную дисперсию (rvs.var()), среднеквадратическое отклонение\n",
    "X_var = sum([x**2*p for x, p in series.items()]) - X_mean**2\n",
    "print(f'Выборочная дисперсия: {round(X_var, 4)}, среднеквадратическое отклонение {round(X_var**0.5, 4)}')\n",
    "\n",
    "# Исправленная выборочная дисперсия (rvs.var(ddof=1)), исправленное выборочное среднее квадратическое отклонение\n",
    "S = (n/(n-1))*X_var\n",
    "print('Исправленная выборочная дисперсия: ', round(S, 4))\n",
    "print('Исправленное выборочное среднее квадратическое отклонение', round(S**0.5, 4))\n",
    "\n",
    "# Мода (scipy.stats.mode(rvs)[0][0])\n",
    "freqs = list(series.values())\n",
    "values = list(series.keys())\n",
    "i = np.argmax(freqs)\n",
    "print('Мода: ', values[i])\n",
    "\n",
    "# Медиана (numpy.median)\n",
    "def find_median(lst):\n",
    "    n = len(lst)\n",
    "    if n%2 == 0:\n",
    "        k = int(n/2)-1\n",
    "        return (lst[k]+lst[k+1])/2\n",
    "    else:\n",
    "        k = int((n-1)/2)-1\n",
    "        return lst[k]\n",
    "    \n",
    "median = find_median(values)\n",
    "print('Медиана: ', median)"
   ]
  },
  {
   "cell_type": "markdown",
   "metadata": {},
   "source": [
    "<a name=\"bessels_correction\">$$\\boxed {MD X_в \\neq DX_г} \\notag$$</a>\n",
    "\n",
    "[***Теорема***](https://studopedia.ru/11_106068_dokazatelstvo-vichislim.html) Если случайная выборка состоит из $n$ независимых наблюдений над случайной величиной $Х$ с математическим ожиданием и дисперсией, то выборочная дисперсия не является несмещённой оценкой генеральной дисперсии.\n",
    "\n",
    "$\n",
    "X \\sim F(a, \\sigma), \\{X_i\\}_{i=1}^n: \\; \\forall i=\\overline{1, n}\\; X_i \\sim N(a, \\sigma), \n",
    "   \\; \\overline{X} = \\frac{1}{n}\\sum\\limits_{i=1}^{n}X_i \\Rightarrow\n",
    "$\n",
    "<ul>\n",
    "    <li>$MX_i=MX=a, \\; DX_i=DX=\\sigma^2$\n",
    "    </li>\n",
    "    <li>\n",
    "    $M\\overline X = M\\bigg(\\frac{1}{n}\\sum\\limits_{i=1}^{n}X_i\\bigg)=a, \\;\n",
    "    D\\overline X = D\\bigg(\\frac{1}{n}\\sum\\limits_{i=1}^{n}X_i\\bigg)=\n",
    "        \\frac{\\sigma_X^2}{n} \\Rightarrow \\sigma_{\\overline X} = \n",
    "    \\frac{\\sigma_X}{\\sqrt n}$\n",
    "    </li>\n",
    "    <li>\n",
    "        $\n",
    "\\sum\\limits_{i=1}^{n}(X_i - a)=\\sum\\limits_{i=1}^{n}X_i - n\\cdot a=\n",
    "   n\\cdot \\big(\\frac{1}{n}\\sum\\limits_{i=1}^{n}X_i - a\\big)=\n",
    "   n\\cdot (\\overline x-a)\n",
    "        $\n",
    "    </li>\n",
    "    <li>\n",
    "        $\n",
    "\\frac{1}{n}\\sum\\limits_{i=1}^{n}(X_i - \\overline X )^2=\n",
    "    \\frac{1}{n}\\sum\\limits_{i=1}^{n}((X_i - a) - (\\overline X - a) )^2 = \\\\\n",
    "    = \\frac{1}{n}\\sum\\limits_{i=1}^{n}(X_i - a)^2 - \n",
    "        \\frac{2}{n}(\\overline X - a)\\sum\\limits_{i=1}^{n}(X_i - a) +\n",
    "        \\frac{1}{n}\\sum\\limits_{i=1}^{n}(\\overline X - a)^2 = \\\\\n",
    "     = \\frac{1}{n}\\sum\\limits_{i=1}^{n}(X_i - a)^2 - (\\overline X - a)^2\n",
    "        $\n",
    "    </li>\n",
    "</ul>\n",
    "\n",
    "$\n",
    "M\\big(\\frac{1}{n}\\sum\\limits_{i=1}^{n}(X_i - \\overline X)^2 \\big) =\n",
    "  M\\big(\\frac{1}{n}\\sum\\limits_{i=1}^{n}(X_i - a)^2 - (\\overline X - a)^2\\big) = \\\\\n",
    "  = \\frac{1}{n}\\sum\\limits_{i=1}^{n}M(X_i - a)^2- M(\\overline X - a)^2=\n",
    "  \\frac{1}{n}\\sum\\limits_{i=1}^{n}DX-M(\\overline X - a)^2= \\\\\n",
    "  = DX- D\\overline X = \\sigma^2 - \\frac{\\sigma^2}{n}=\\frac{n-1}{n}\\cdot \\sigma^2    \n",
    "  \\Rightarrow MD\\overline X \\neq DX\n",
    "$\n",
    "\n"
   ]
  }
 ],
 "metadata": {
  "kernelspec": {
   "display_name": "Python 3",
   "language": "python",
   "name": "python3"
  },
  "language_info": {
   "codemirror_mode": {
    "name": "ipython",
    "version": 3
   },
   "file_extension": ".py",
   "mimetype": "text/x-python",
   "name": "python",
   "nbconvert_exporter": "python",
   "pygments_lexer": "ipython3",
   "version": "3.7.7"
  },
  "latex_envs": {
   "LaTeX_envs_menu_present": true,
   "autoclose": false,
   "autocomplete": false,
   "bibliofile": "biblio.bib",
   "cite_by": "apalike",
   "current_citInitial": 1,
   "eqLabelWithNumbers": false,
   "eqNumInitial": 1,
   "hotkeys": {
    "equation": "Ctrl-E",
    "itemize": "Ctrl-I"
   },
   "labels_anchors": false,
   "latex_user_defs": false,
   "report_style_numbering": false,
   "user_envs_cfg": false
  }
 },
 "nbformat": 4,
 "nbformat_minor": 4
}
