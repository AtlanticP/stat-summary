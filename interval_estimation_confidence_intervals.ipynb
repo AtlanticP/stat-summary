{
 "cells": [
  {
   "cell_type": "code",
   "execution_count": 1,
   "metadata": {},
   "outputs": [],
   "source": [
    "import scipy.stats as sts\n",
    "import numpy as np"
   ]
  },
  {
   "cell_type": "markdown",
   "metadata": {},
   "source": [
    "#### ***8.3. Понятие интервального оценивания параметров***"
   ]
  },
  {
   "cell_type": "markdown",
   "metadata": {},
   "source": [
    "Оценка неизвестного параметра называется ***интервальной***, если она определяется двумя числами - концами интервала.\n",
    "\n",
    "Задачу интервального оценивания можно сформулировать так: по данным выборки построить числовой интервал ($\\tilde \\theta_1, \\tilde \\theta_2$), относительно которого с заранее выбранной вероятностью $\\gamma$ можно сказать, что внутри этого интервала находится точное значение оцениваемого параметра.\n",
    "Интервал ($\\tilde \\theta_1, \\tilde \\theta_2$), накрывающий с вероятностью $\\gamma$ истинное значение параметра $\\theta$, называется ***доверительным интервалом***, а вероятность $\\gamma$ - ***надежностью оценки*** или ***доверительной вероятностью.***\n",
    "\n",
    "Доверительный интервал, ***симметричный относительно несмещенной точечной оценки*** $\\tilde \\theta$\n",
    "$$ \\notag\n",
    "P\\{\\theta \\in (\\tilde \\theta - \\varepsilon, \\tilde \\theta + \\varepsilon)\\} =\n",
    "    P\\{|\\theta - \\tilde \\theta| <\\varepsilon \\}=\\gamma,\n",
    "$$\n",
    "где $\\varepsilon>0$ - точность оценки.\n"
   ]
  },
  {
   "cell_type": "markdown",
   "metadata": {},
   "source": [
    "##### ***8.4 Доверительные интервалы для параметров нормального распределения***"
   ]
  },
  {
   "cell_type": "markdown",
   "metadata": {},
   "source": [
    "##### Доверительный интервал для математического ожидания при известной дисперсии"
   ]
  },
  {
   "cell_type": "markdown",
   "metadata": {},
   "source": [
    "Пусть СВ $ \\sim N(a, \\sigma^2); \\; \\sigma\\;-$ известна, доверительная вероятность (надежность) $\\gamma - $ задана.\n",
    "\n",
    "Пусть $x_1, x_2, ..., x_n$ - выборка, полученная в результате проведения $n$ независимых наблюдений за СВ $X$. Чтобы подчеркнуть случайных характер величин $x_1, x_2, ..., x_n$, перепишем их в виде $X_1, X_2, ..., X_n$, т.е. под $X_i$ будем понимать значение СВ $X$ в $i$-ом опыте. Случайные величины $X_1, X_2, ..., X_n - $  независимы, закон распределения совпадает с законом распределения СВ $X$ (т.е. $X_i \\sim N(a, \\sigma^2)$). А это значит, что $MX_1=MX_2=...=MX_n=MX=a, \\; DX_1=DX_2=...=DX_n=DX.$\n",
    "\n",
    "Выборочное среднее $\\overline{X_в}=\\overline{X}=\\frac{1}{n}\\sum\\limits_{i=1}^{n}X_i$ также будем распределено по нормлаьному закону. Параметры распределения $\\overline{X}$ таковы:\n",
    "$$\\notag M\\overline X = M\\bigg(\\frac{1}{n} \\sum\\limits_{i=1}^{n}X_i\\bigg)=\n",
    "    \\frac{1}{n} M\\bigg(\\sum\\limits_{i=1}^{n}X_i\\bigg)=\n",
    "     \\frac{1}{n} \\sum\\limits_{i=1}^{n}MX_i=\\frac{1}{n} \\cdot n \\cdot a = a$$\n",
    "     \n",
    "$$\\notag D\\overline X = D\\bigg(\\frac{1}{n} \\sum\\limits_{i=1}^{n}X_i\\bigg)=\n",
    "    \\frac{1}{n^2} D\\bigg(\\sum\\limits_{i=1}^{n}X_i\\bigg)=\n",
    "     \\frac{1}{n^2} \\sum\\limits_{i=1}^{n}DX_i=\\frac{1}{n^2} \\cdot n \\cdot DX = \n",
    "     \\frac{\\sigma^2}{n}$$\n",
    "     \n",
    "Таким образом, $\\overline{X} \\sim N(a, \\frac{\\sigma^2}{n}).$"
   ]
  },
  {
   "cell_type": "markdown",
   "metadata": {},
   "source": [
    "$\n",
    "X \\sim N(a, \\sigma), \\{X_i\\}_{i=1}^n: \\; \\forall i=\\overline{1, n}\\; X_i \\sim N(a, \\sigma), \n",
    "   \\; \\overline{X} = \\frac{1}{n}\\sum\\limits_{i=1}^{n}X_i \\Rightarrow\n",
    "$\n",
    "<ul>\n",
    "    <li>$MX_i=MX=a, \\; DX_i=DX=\\sigma^2$\n",
    "    </li>\n",
    "    <li>\n",
    "    $M\\overline X = M\\bigg(\\frac{1}{n}\\sum\\limits_{i=1}^{n}X_i\\bigg)=a, \\;\n",
    "    D\\overline X = D\\bigg(\\frac{1}{n}\\sum\\limits_{i=1}^{n}X_i\\bigg)=\n",
    "        \\frac{\\sigma_X^2}{n} \\Rightarrow \\sigma_{\\overline X} = \n",
    "    \\frac{\\sigma_X}{\\sqrt n}$\n",
    "    </li>    \n",
    "    <li>$\\overline X \\sim N\\big(a, \\frac{\\sigma}{\\sqrt n}\\big)$\n",
    "    </li>\n",
    "</ul>\n",
    "\n",
    "$$\\gamma = P(|\\overline X - a|<\\varepsilon) = \n",
    "    2\\Phi_0\\big(\\frac{\\varepsilon}{\\sigma_{\\overline x}}\\big)=\n",
    "    P\\big(|\\overline x -a|<\\frac{t\\cdot\\sigma_{x}}{\\sqrt n}\\big) =\n",
    "   2\\Phi_0(t)$$   \n",
    " где $t = \\frac{\\varepsilon \\sqrt{n}}{\\sigma_x}, \\; \n",
    "    t=\\Phi_0^{-1}\\big(\\frac{\\gamma}{2}\\big)=\\Phi^{-1}\\big(\\frac{\\gamma+1}{2}\\big)$\n",
    "    \n",
    "$$P\\bigg(\\overline X - \\frac{t\\cdot\\sigma_{x}}{\\sqrt n} \\leq a \\leq\n",
    "    \\overline X + \\frac{t\\cdot\\sigma_{x}}{\\sqrt n}  \\bigg) = \\gamma, \\notag$$\n",
    "где  доверительный интервал для $a = MX$ есть \n",
    "$\\bigg(\\overline X - \\frac{t\\cdot\\sigma_{x}}{\\sqrt n}, \n",
    "       \\overline X + \\frac{t\\cdot\\sigma_{x}}{\\sqrt n}\\bigg)$"
   ]
  },
  {
   "cell_type": "markdown",
   "metadata": {},
   "source": [
    "***Пример*** Произведено 5 независимых наблюдений над СВ $X \\sim N(a, 20)$. Результаты наблюдений таковы: $x_1=-25,\\;x_2=34,\\;x_3=-20,\\;x_4=10,\\;x_5=21$\n",
    "Найти оценку для $a=MX$ и построить для него 95%-ый доверительный интервал."
   ]
  },
  {
   "cell_type": "code",
   "execution_count": 6,
   "metadata": {},
   "outputs": [],
   "source": [
    "import matplotlib.pyplot as plt"
   ]
  },
  {
   "cell_type": "code",
   "execution_count": 2,
   "metadata": {},
   "outputs": [
    {
     "name": "stdout",
     "output_type": "stream",
     "text": [
      "Неизвестный параметр a теоретического распределения находится на интервале от -13.53 до 21.53\n"
     ]
    }
   ],
   "source": [
    "X = [-25, 34, -20, 10, 21]\n",
    "gamma = 0.95\n",
    "sigma = 20\n",
    "X_mean = sum(X)/len(X)  # среднее арифметическое\n",
    "t = round(sts.norm.ppf((gamma+1)/2), 4)  # вычисляем параметр t\n",
    "epsilon = (t*sigma)/len(X)**0.5\n",
    "interval = [round(i, 2) for i in [X_mean-epsilon, X_mean+epsilon]]\n",
    "print(f'Неизвестный параметр a теоретического распределения находится на интервале от {interval[0]} до {interval[1]}')"
   ]
  },
  {
   "cell_type": "markdown",
   "metadata": {},
   "source": [
    "##### Доверительный интервал для математического ожидания при неизвестной дисперсии"
   ]
  },
  {
   "cell_type": "markdown",
   "metadata": {},
   "source": [
    "Пусть СВ $X \\sim N(a, \\sigma), \\sigma -$ неизвестна, $\\gamma -$ задана. Найдем такое число $\\epsilon$, чтобы выполнялось соотношения $$P(|\\overline X - a|<\\varepsilon)=\\gamma.$$\n",
    "\n",
    "Введем случайную величину $$T=\\frac{\\overline X-a}{\\frac{S}{\\sqrt n}},$$\n",
    "\n",
    "где $S$ - исправленное среднее квадратическое отклонение СВ $X$, вычисленное по выборке:\n",
    "$$S = \\sqrt{\\frac{1}{n-1}\\cdot \\sum\\limits_{i=1}^{k}(x_i-\\overline{x_в})^2}$$\n",
    "\n",
    "СВ $T$ имеет распределение Стьюдента c $n-1$ степерью свободы. Плотность распределения имеет вид:\n",
    "$$\n",
    "f_T(t, n-1)=\\frac{Г\\big(\\frac{n}{2}\\big)}{\\sqrt{\\pi(n-1)Г\\big(\\frac{n-1}{2}\\big)}}\n",
    "    \\cdot \\bigg( 1+\\frac{t^2}{n-1}\\bigg)^{-\\frac{n}{2}},\n",
    "$$\n",
    "\n",
    "где $Г(p)=\\int\\limits_0^{\\infty}u^{p-1}\\cdot e^{-u}du - $ гамма-функция; \n",
    "$f_T(t, n-1) -  $ четная функция.\n",
    "\n",
    "$$P(|T|<t_\\gamma)=\\int\\limits_{-t_\\gamma}^{t_\\gamma}f_T(t, n-1)dt=\n",
    "    2\\cdot\\int\\limits_{0}^{t_\\gamma}f_T(t, n-1)dt=\\gamma$$\n",
    "    \n",
    "$$P(|T|<t_\\gamma)=\\gamma,$$ где $t_\\gamma=\\frac{\\varepsilon\\cdot\\sqrt{n}}{S}$.\n",
    "\n",
    "$$\\varepsilon = t_\\gamma\\cdot\\frac{S}{\\sqrt n}, \\\\\n",
    "P\\bigg(\\overline X - t_\\gamma\\cdot\\frac{S}{\\sqrt n} \\leq a \\leq\n",
    "    \\overline X + t_\\gamma\\cdot\\frac{S}{\\sqrt n}  \\bigg) = \\gamma, \\notag$$"
   ]
  },
  {
   "cell_type": "markdown",
   "metadata": {},
   "source": [
    "***Пример*** Произведено 5 независимых наблюдений над СВ $X \\sim N(a, \\sigma)$. Результаты наблюдений таковы: $x_1=-25,\\;x_2=34,\\;x_3=-20,\\;x_4=10,\\;x_5=21$\n",
    "Найти оценку для $a=MX$ и построить для него 95%-ый доверительный интервал."
   ]
  },
  {
   "cell_type": "code",
   "execution_count": 7,
   "metadata": {},
   "outputs": [
    {
     "name": "stdout",
     "output_type": "stream",
     "text": [
      "Неизвестный параметр MX=a теоретического распределения находится на интервале от -27.95 до 35.95\n"
     ]
    }
   ],
   "source": [
    "X = np.array([-25, 34, -20, 10, 21])\n",
    "n = len(X)\n",
    "gamma = 0.95\n",
    "X_mean = sum(X)/n   \n",
    "\n",
    "t_gamma = sts.t(n-1).ppf((gamma+1)/2).round(2)\n",
    "D = 1/(n-1)*sum([(x-X_mean)**2 for x in X])\n",
    "X.var(ddof=1) == D                                      # True\n",
    "S = D**(0.5)\n",
    "\n",
    "epsilon = t_gamma*S*n**(-0.5)\n",
    "interval = [round(i, 2) for i in (X_mean-epsilon, X_mean+epsilon)]\n",
    "\n",
    "print(f'Неизвестный параметр MX=a теоретического распределения находится на интервале от {interval[0]} до {interval[1]}')"
   ]
  }
 ],
 "metadata": {
  "kernelspec": {
   "display_name": "Python 3",
   "language": "python",
   "name": "python3"
  },
  "language_info": {
   "codemirror_mode": {
    "name": "ipython",
    "version": 3
   },
   "file_extension": ".py",
   "mimetype": "text/x-python",
   "name": "python",
   "nbconvert_exporter": "python",
   "pygments_lexer": "ipython3",
   "version": "3.7.7"
  },
  "latex_envs": {
   "LaTeX_envs_menu_present": true,
   "autoclose": false,
   "autocomplete": false,
   "bibliofile": "biblio.bib",
   "cite_by": "apalike",
   "current_citInitial": 1,
   "eqLabelWithNumbers": false,
   "eqNumInitial": 1,
   "hotkeys": {
    "equation": "Ctrl-E",
    "itemize": "Ctrl-I"
   },
   "labels_anchors": false,
   "latex_user_defs": false,
   "report_style_numbering": false,
   "user_envs_cfg": false
  }
 },
 "nbformat": 4,
 "nbformat_minor": 4
}
