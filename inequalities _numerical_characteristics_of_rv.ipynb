{
 "cells": [
  {
   "cell_type": "markdown",
   "metadata": {},
   "source": [
    "###### ***Неравенства, связанные с числовыми характеристиками случайных величин***\n",
    "1. $\\text{Если } P(\\xi \\geq 0)=1, \\text{ то } E_\\xi \\geq 0$\n",
    "2. $\\text{Если } P(\\xi \\geq \\eta)=1, \\text{ то } E_\\xi \\geq E_\\eta$\n",
    "3. $\\text{Если } P(-|\\xi| \\leq \\xi \\leq |\\xi|)=1, \\text{ то } E_{-|\\xi|} \\leq E_\\xi \\leq E_{|\\xi|}$\n",
    "4. $\\text{Неравенство Чебышева: } \\forall \\varepsilon > 0 \\quad\n",
    "P(|\\xi-E_\\xi| \\geq \\varepsilon) \\leq \\frac{D_\\xi}{\\varepsilon^2}$\n",
    "5. $\\text{Неравенство Коши-Буняковского: } |cov_{\\xi, \\eta}| \\leq \\sqrt{D_\\xi D_\\eta}$\n",
    "6. $\\text{Неравенство Маркова: } P \\{ \\xi \\geq \\varepsilon \\} \\leq \\frac{E_\\xi}{\\varepsilon} \\Leftrightarrow \n",
    "    P \\{ \\xi < \\varepsilon \\} \\geq 1 - \\frac{E_\\xi}{\\varepsilon}$"
   ]
  },
  {
   "cell_type": "code",
   "execution_count": null,
   "metadata": {},
   "outputs": [],
   "source": []
  },
  {
   "cell_type": "code",
   "execution_count": null,
   "metadata": {},
   "outputs": [],
   "source": []
  },
  {
   "cell_type": "code",
   "execution_count": null,
   "metadata": {},
   "outputs": [],
   "source": []
  },
  {
   "cell_type": "markdown",
   "metadata": {},
   "source": [
    "***Коэффициент корреляции*** случайных величин $\\xi,\\; \\eta$ называется число:\n",
    "$$corr(\\xi, \\eta)=\\frac{cov(\\xi, \\eta)}{\\sqrt{D_\\xi D_\\eta}}$$\n",
    "\n",
    "Если $\\xi, \\eta$ НСВ, то $corr(\\xi, \\eta) = 0$ (в обратную сторону неверно)\n"
   ]
  }
 ],
 "metadata": {
  "kernelspec": {
   "display_name": "Python 3",
   "language": "python",
   "name": "python3"
  },
  "language_info": {
   "codemirror_mode": {
    "name": "ipython",
    "version": 3
   },
   "file_extension": ".py",
   "mimetype": "text/x-python",
   "name": "python",
   "nbconvert_exporter": "python",
   "pygments_lexer": "ipython3",
   "version": "3.7.7"
  },
  "latex_envs": {
   "LaTeX_envs_menu_present": true,
   "autoclose": false,
   "autocomplete": false,
   "bibliofile": "biblio.bib",
   "cite_by": "apalike",
   "current_citInitial": 1,
   "eqLabelWithNumbers": false,
   "eqNumInitial": 1,
   "hotkeys": {
    "equation": "Ctrl-E",
    "itemize": "Ctrl-I"
   },
   "labels_anchors": false,
   "latex_user_defs": false,
   "report_style_numbering": false,
   "user_envs_cfg": false
  }
 },
 "nbformat": 4,
 "nbformat_minor": 4
}
