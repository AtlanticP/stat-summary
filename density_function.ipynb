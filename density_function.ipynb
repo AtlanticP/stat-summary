{
 "cells": [
  {
   "cell_type": "markdown",
   "metadata": {},
   "source": [
    "#### 2.4 Плотность распределения и ее свойства"
   ]
  },
  {
   "cell_type": "markdown",
   "metadata": {},
   "source": [
    "***Определение***\n",
    "*Плотностью распределения вероятностей* (плотность распределения, плотность вероятностей, плотность или дифференциальная функция распределения) непрерывной СВ (далее НСВ) $\\xi$ называется производная ее функции распределения:\n",
    "$$F'(x) \\overset{def}{=} p_\\xi(x) \\notag $$\n",
    "\n",
    "$\n",
    "p(x) \\overset{def}{=} \\lim\\limits_{\\Delta x\\to 0}{\\Delta F(x) \\over \\Delta x} =\n",
    "\\lim\\limits_{\\Delta x\\to 0} \\frac{F(x) - F(x+\\Delta x)}{\\Delta x} \\overset{def}{=} \n",
    "\\lim\\limits_{\\Delta x \\to 0} \\frac{P(\\{x \\leq \\xi < x + \\Delta x \\})}{\\Delta x} \\Rightarrow \n",
    "P(\\{x \\leq \\xi < x + \\Delta x \\}) \\approx p(x)\\Delta x\n",
    "$\n",
    "\n",
    "Т.о. плотность распределения определяется как функция $p(x)$, удовлетворяющая условию $P(\\{x \\leq \\xi < x + dx \\}) \\approx p(x)dx$; выражение $p(x)dx$ называется **элементом вероятности**.\n",
    "\n",
    "***Свойства плотности распределения***\n",
    "<ol>\n",
    "    <li>$p_\\xi(x)>0$</li>\n",
    "    <li>$F_\\xi(x) = \\int\\limits_{-\\infty}^x p_\\xi(t)dt$</li>\n",
    "    <li>$\n",
    "        P(\\{x \\leq \\xi < x + dx \\}) = \\int\\limits_a^b p_\\xi(x)dx =\n",
    "        F(b)-F(a)\n",
    "    $</li>\n",
    "    <li>$\\int\\limits_{-\\infty}^\\infty p_\\xi(x)dx = 1$</li>\n",
    "</ol>"
   ]
  },
  {
   "cell_type": "markdown",
   "metadata": {},
   "source": [
    "***Замечение*** Т.к. для НСВ\n",
    "$P(\\{ a \\leq \\xi < x \\}) = F(x) - F(a) \n",
    "    \\Rightarrow \\lim\\limits_{x\\to a}F(x)-F(a) = 0 \\Rightarrow \\\\\n",
    "    \\Rightarrow \n",
    "        P(\\{ a \\leq \\xi < x \\}) = P(\\{ a < \\xi < x \\}) =\n",
    "        P(\\{ a  \\leq \\xi  \\leq x \\}) = P(\\xi \\in \\left(a, x \n",
    "        \\right])$\n",
    "        \n",
    ", то   и в случае с плотностью распределения выполняется данное свойство: $P({\\xi=c}) = P(\\{ c \\leq \\xi < c \\}) = \\int\\limits_{c}^{c} p(x)dx = 0 \\Rightarrow \\\\ \\Rightarrow  \n",
    "P(\\xi \\in \\left(a, x \\right]) = P(\\xi \\in \\left(a, x \\right)) =\n",
    "P(\\xi \\in \\left[a, x \\right]) = P(\\xi \\in \\left[a, x \\right))$"
   ]
  }
 ],
 "metadata": {
  "kernelspec": {
   "display_name": "Python 3",
   "language": "python",
   "name": "python3"
  },
  "language_info": {
   "codemirror_mode": {
    "name": "ipython",
    "version": 3
   },
   "file_extension": ".py",
   "mimetype": "text/x-python",
   "name": "python",
   "nbconvert_exporter": "python",
   "pygments_lexer": "ipython3",
   "version": "3.7.7"
  },
  "latex_envs": {
   "LaTeX_envs_menu_present": true,
   "autoclose": false,
   "autocomplete": true,
   "bibliofile": "biblio.bib",
   "cite_by": "apalike",
   "current_citInitial": 1,
   "eqLabelWithNumbers": false,
   "eqNumInitial": 1,
   "hotkeys": {
    "equation": "Ctrl-E",
    "itemize": "Ctrl-I"
   },
   "labels_anchors": false,
   "latex_user_defs": false,
   "report_style_numbering": false,
   "user_envs_cfg": false
  }
 },
 "nbformat": 4,
 "nbformat_minor": 4
}
