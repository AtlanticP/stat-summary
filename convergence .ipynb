{
 "cells": [
  {
   "cell_type": "markdown",
   "metadata": {},
   "source": [
    "***Определение.*** Пусть $n \\to \\infty$, тогда имеет место:\n",
    "<ol>\n",
    "    <li>сходимость по вероятности: \n",
    "        $\\xi_n \\xrightarrow[]{P} \\xi $\n",
    "    </li>\n",
    "    <li>сходимость почти наверное:\n",
    "        $\\xi_n \\xrightarrow[]{п.н.} \\xi$\n",
    "    </li>\n",
    "    <li>сходимость в $L_p$:\n",
    "        $\\xi_n \\xrightarrow[]{L_p} \\xi$ \n",
    "    </li> \n",
    "    <li>сходимость по распределению:\n",
    "        $\\xi_n \\xrightarrow[]{d} \\xi$ \n",
    "    </li>\n",
    "</ol>"
   ]
  },
  {
   "cell_type": "markdown",
   "metadata": {},
   "source": [
    "***Сходимость по вероятности***\n",
    "$$\\xi_n \\xrightarrow[n \\to \\infty]{P} \\xi \\Leftrightarrow \n",
    "            P(|\\xi_n-\\xi| \\geq \\varepsilon) \\xrightarrow[n \\to \\infty]{} 0, \\; n \\to \\infty \\Leftrightarrow \n",
    "            P(|\\xi_n-\\xi| < \\varepsilon) \\xrightarrow[n \\to \\infty]{} 1, \\; n \\to \\infty$$\n",
    "**Пример.** Рассмотрим последовательность $\\xi_1, \\xi_2, ...$, в которой все величины имеют разные распределения: величина $\\xi_n$ принимает значения $0$ и $n^7$ с вероятностями:\n",
    "$$P(\\xi_n=n^7)=\\frac{1}{n}=1-P(\\xi_n=0) \\notag$$\n",
    "Докажем, что эта последовательность сходится по вероятности к нулю.\n",
    "\n",
    "Зафиксируем произвольное $\\varepsilon > 0$. Для всех $n$, начиная с некоторого $n_0$ такого, что $n^7>\\varepsilon$, верно равенство $P(\\xi_n \\geq \\varepsilon)=P(\\xi_n = n^7)=\\frac{1}{n}$. Поэтому\n",
    "    $$P(|\\xi_n-0| \\geq \\varepsilon)=P(\\xi_n \\geq \\varepsilon)=P(\\xi_n = n^7)=\n",
    "\\frac{1}{n} \\xrightarrow[n \\to \\infty]{}0 \\notag$$\n",
    "Итак, случайные величины $\\xi_n$ с ростом $n$ могут принимать всё большие и большие значения, но со всё меньшей и меньшей вероятностью.\n"
   ]
  },
  {
   "cell_type": "markdown",
   "metadata": {},
   "source": [
    "***Сходимость почти наверное***\n",
    "$$\\xi_n \\xrightarrow[n \\to \\infty]{п.н.} \\xi \\Leftrightarrow \n",
    "            P\\{\\omega: \\xi_n(\\omega) \\xrightarrow[n \\to \\infty]{} \\xi(\\omega)\\} = 1$$\n",
    "            "
   ]
  },
  {
   "cell_type": "markdown",
   "metadata": {},
   "source": [
    " ***Сходимость в $L_p$***\n",
    " \n",
    " $\\forall n \\;E_{|\\xi_n|}^p<+\\infty, \\; E_{|\\xi|}^p<+\\infty$\n",
    " $$\\xi_n \\xrightarrow[]{L_p} \\xi \\Leftrightarrow E_{|\\xi_n-\\xi|}^p \\to 0, \\; n \\to \\infty$$\n",
    " "
   ]
  },
  {
   "cell_type": "markdown",
   "metadata": {},
   "source": [
    "***Сходимость по распределению***\n",
    "\n",
    "$\\forall f$ - непрерывной ограниченной функции выполнено\n",
    "\n",
    "$$\\xi_n \\xrightarrow[]{d} \\xi \\Leftrightarrow Ef(\\xi_n) \\to Ef(\\xi_n), \\; n \\to \\infty$$ \n",
    "\n",
    "**Теорема Александрова**\n",
    "\n",
    "$\\xi_n \\overset{d}{\\to} \\xi \\Leftrightarrow F_{\\xi_n} \\to F_{\\xi} \\; \\forall\\;x \\in C[F_\\xi]$ "
   ]
  }
 ],
 "metadata": {
  "kernelspec": {
   "display_name": "Python 3",
   "language": "python",
   "name": "python3"
  },
  "language_info": {
   "codemirror_mode": {
    "name": "ipython",
    "version": 3
   },
   "file_extension": ".py",
   "mimetype": "text/x-python",
   "name": "python",
   "nbconvert_exporter": "python",
   "pygments_lexer": "ipython3",
   "version": "3.7.7"
  },
  "latex_envs": {
   "LaTeX_envs_menu_present": true,
   "autoclose": false,
   "autocomplete": false,
   "bibliofile": "biblio.bib",
   "cite_by": "apalike",
   "current_citInitial": 1,
   "eqLabelWithNumbers": false,
   "eqNumInitial": 1,
   "hotkeys": {
    "equation": "Ctrl-E",
    "itemize": "Ctrl-I"
   },
   "labels_anchors": false,
   "latex_user_defs": false,
   "report_style_numbering": false,
   "user_envs_cfg": false
  }
 },
 "nbformat": 4,
 "nbformat_minor": 4
}
