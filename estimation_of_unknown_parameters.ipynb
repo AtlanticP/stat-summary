{
 "cells": [
  {
   "cell_type": "markdown",
   "metadata": {},
   "source": [
    "#### ***8.1. Оценка неизвестных параметров***"
   ]
  },
  {
   "cell_type": "markdown",
   "metadata": {},
   "source": [
    "***Статистической оценкой $\\tilde \\theta$*** (далее просто ***оценкой $\\tilde \\theta$***) параметра $\\theta$ теоретического распределения называют его приближенное значение, зависящее от данных выбора.\n",
    "\n",
    "Очевидно, что оценка $\\theta$ есть значение некоторой функции результатов наблюдений над случайной величиной, т.е. \n",
    "        $$\\tilde \\theta = \\tilde \\theta(X_1, X_2, ..., X_n) \\notag$$ \n",
    "        \n",
    " Функция результатов наблюдений (т.е. функцию выборки) называют ***статистикой.***"
   ]
  },
  {
   "cell_type": "markdown",
   "metadata": {},
   "source": [
    "##### ***Свойства статистических оценок: несмещенность, состоятельность, эффективность***"
   ]
  },
  {
   "cell_type": "markdown",
   "metadata": {},
   "source": [
    "Оценка $\\tilde \\theta$ параметра $\\theta$ называется ***несмещенной***, если $E\\tilde \\theta = \\theta$. В противном случае оценка $\\tilde \\theta$ смещенная. Т.о., чтобы оценка была несмещенная математическое ожидание оценки должно быть равно оцениваемому параметру.\n",
    "\n",
    "Если $E\\tilde \\theta \\xrightarrow[n\\to\\infty]{} \\theta$, то оценка $\\tilde \\theta$ называется ***асимптотически несмещенной.***"
   ]
  },
  {
   "cell_type": "markdown",
   "metadata": {},
   "source": [
    "Оценка $\\tilde \\theta$ параметра $\\theta$ называется состоятельной, если она сходится по вероятности к оцениваемому параметру:\n",
    "$$\\notag \\tilde \\theta \\xrightarrow [n\\to\\infty]{p} \\theta,$$\n",
    "т.е. для любого $\\varepsilon > 0$ выполнено\n",
    "$$\\notag \\lim\\limits_{n\\to\\infty}P\\{|\\tilde \\theta - \\theta | <\\varepsilon \\}=1$$\n",
    "\n",
    "Это означает, что с увеличением объема выборки мы все ближе приближаемся к истинному значению параметра $\\theta$, т.е. практически достоверно $\\tilde \\theta \\approx \\theta$.\n",
    "\n",
    "***Теорема.*** Если оценка $\\tilde \\theta$ параметра $\\theta$ является несмещенной и $D\\tilde \\theta \\to 0$ при $n\\to\\infty$, то $\\tilde \\theta$ - состоятельная оценка.\n",
    "$$ \\notag\n",
    "P\\{|\\tilde \\theta - \\theta | <\\varepsilon \\} \\geq \n",
    "    1 - \\frac{D\\tilde \\theta}{\\varepsilon^2} \\Rightarrow \n",
    "    \\lim\\limits_{n\\to\\infty}P\\{|\\tilde \\theta - \\theta | <\\varepsilon \\}=1\n",
    "$$\n",
    "Несмещенная оценка  $\\tilde \\theta$ параметра $\\theta$ называется ***эффективной***, если она имеет наименьшую дисперсию среди всех возможных несмещенных оценок параметра $\\theta$, т.е. оценка $\\tilde \\theta$ эффективна, если ее дисперсия минимальна.\n",
    "Несмещенная оценка в ряде случаев можно найти, используя неравенство Рао-Крамера."
   ]
  },
  {
   "cell_type": "markdown",
   "metadata": {},
   "source": [
    "##### ***Точечные оценки математического ожидания и дисперсии***\n",
    "\n"
   ]
  },
  {
   "cell_type": "markdown",
   "metadata": {},
   "source": [
    "Пусть изучается СВ $X$ с математическим ожиданием $a=MX$ и дисперсией $DX$; оба параметра неизвестны.\n",
    "Статистика, используемая в качестве приближенного значения неизвестного параметра генеральной совокупности, называется ее ***точечной оценкой.*** То есть точечная оценка характеристики генеральной совокпности - это число, определяемое по выборке.\n",
    "\n",
    "***Теорема.*** Пусть $X_1, X_2, ..., X_n$ - выборка из генеральной совокупности и $MX_i=MX=a, \\; DX_i=DX (i=\\overline{1, n}$). Тогда выборочное среднее \n",
    "$\\overline {X} = \\frac{1}{n} \\sum\\limits_{i=1}^{n}X_i$ - несмещенная и состоятельная оценка математического ожидания $MX$.\n",
    "\n",
    "$$\\notag M\\overline X = M\\bigg(\\frac{1}{n} \\sum\\limits_{i=1}^{n}X_i\\bigg)=\n",
    "    \\frac{1}{n} M\\bigg(\\sum\\limits_{i=1}^{n}X_i\\bigg)=\n",
    "     \\frac{1}{n} \\sum\\limits_{i=1}^{n}MX_i=\\frac{1}{n} \\cdot n \\cdot a = a$$\n",
    "     \n",
    "Отсюда по определению получаем, что $\\overline X_в$ - несмещенная оценка $MX.$\n",
    "\n",
    "Далее по теореме Чебышева\n",
    "$\n",
    "\\lim\\limits P\\bigg\\{ \\bigg| \\frac{1}{n}\\sum\\limits_{i=1}^{n}\\xi_i\n",
    "    -\\frac{1}{n}\\sum\\limits_{i=1}^{n}E_{\\xi_i} \\bigg| < \\varepsilon \\bigg\\}=1, \\Rightarrow\n",
    "    \\lim\\limits_{n\\to\\infty}P\\{|\\overline X_в - MX | <\\varepsilon \\}=1 \\Rightarrow\n",
    "    \\lim\\limits_{n\\to\\infty}P\\{|\\tilde \\theta - \\theta | <\\varepsilon \\}=1 \\Rightarrow \n",
    "    \\overline X_в$ - состоятельная оценка $MX$."
   ]
  },
  {
   "cell_type": "markdown",
   "metadata": {},
   "source": [
    "$$\\notag MD_в = \\frac{n-1}{n}DX.$$"
   ]
  },
  {
   "cell_type": "markdown",
   "metadata": {},
   "source": [
    "***Теорема.*** Пусть $X_1, X_2, ..., X_n$ - выборка из генеральной совокупности и $MX_i=Mx=a,$ $DX_i=DX \\; (i=\\overline{1,n}).$ Тогда исправленная выборочная дисперсия \n",
    "$S^2= \\frac{n}{n-1}\\cdot \\sum\\limits_{i=1}^{k}(x_i-\\overline{x_B})=\n",
    "    \\frac{n}{n-1}\\cdot D_в$ - несмещенная состоятельная оценка дисперсии $DX$.\n",
    "    \n",
    " $MS^2 = M\\bigg(\\frac{n}{n-1}\\cdot D_в \\bigg)=\\frac{n}{n-1}\\cdot MD_в=\n",
    "     \\frac{n}{n-1}\\cdot\\frac{n-1}{n}\\cdot DX = DX$"
   ]
  },
  {
   "cell_type": "markdown",
   "metadata": {},
   "source": [
    "***Теорема.*** Относительная частота $\\frac{n_A}{n}$ появления события $A$ в $n$ независимых испытаниях является несмещенной состоятельной и эффективной оценкой неизвестной вероятности $p=P(A)$ этого события ($p$ - вероятность наступления события $A$ в каждом испытании).\n",
    "\n",
    "Отметим, что состоятельность оценки $\\tilde \\theta=\\frac{n_A}{n}$ непосредственно вытекает из теоремы Бернулли.\n",
    "\n",
    "***Теорема.*** Эмпирическая функция распределения выборки $F^*(x)$ является несмещенной состоятельной оценкой функции распределения $F(x)$ случайной величины $X$."
   ]
  },
  {
   "cell_type": "markdown",
   "metadata": {},
   "source": [
    "***Пример*** Монету подбрасывают $n$ раз. Вероятность выпадения герба при каждом подбрасывании равна $p$. В ходе опыта монета выпала гербом $n_A$ раз. Показать несмещнность оценки $\\tilde \\theta=\\frac{n_A}{n}$ вероятности $\\theta=p$ выпадения герба в каждом опыте.\n",
    "\n",
    "Число успехов ($n_A$) имеет распределение Бернулли. Тогда $M(n_A)=np, D(n_A)=npq=np(1-p).$ Следовательно, $M\\tilde \\theta = M \\bigg(\\frac{n_A}{n} \\bigg)= \\frac{1}{n}\\cdot M(n_A)=\n",
    "    \\frac{1}{n}\\cdot n \\cdot p = p = \\theta$, т.е. оценка $\\tilde \\theta=\\frac{n_A}{n}$ - несмещенная.\n"
   ]
  }
 ],
 "metadata": {
  "kernelspec": {
   "display_name": "Python 3",
   "language": "python",
   "name": "python3"
  },
  "language_info": {
   "codemirror_mode": {
    "name": "ipython",
    "version": 3
   },
   "file_extension": ".py",
   "mimetype": "text/x-python",
   "name": "python",
   "nbconvert_exporter": "python",
   "pygments_lexer": "ipython3",
   "version": "3.7.7"
  },
  "latex_envs": {
   "LaTeX_envs_menu_present": true,
   "autoclose": false,
   "autocomplete": false,
   "bibliofile": "biblio.bib",
   "cite_by": "apalike",
   "current_citInitial": 1,
   "eqLabelWithNumbers": false,
   "eqNumInitial": 1,
   "hotkeys": {
    "equation": "Ctrl-E",
    "itemize": "Ctrl-I"
   },
   "labels_anchors": false,
   "latex_user_defs": false,
   "report_style_numbering": false,
   "user_envs_cfg": false
  }
 },
 "nbformat": 4,
 "nbformat_minor": 4
}
