{
 "cells": [
  {
   "cell_type": "markdown",
   "metadata": {},
   "source": [
    "## Статистические гипотезы\n",
    "https://www.youtube.com/watch?v=wLcRWI1x9J4&list=PLxu8CSijHQIk_bBuOCnZCa1W0QlyftdGN&index=2"
   ]
  },
  {
   "cell_type": "code",
   "execution_count": 2,
   "metadata": {},
   "outputs": [],
   "source": [
    "import scipy.stats as sts\n",
    "from IPython.display import display, Math\n",
    "import numpy as np\n",
    "import matplotlib.pyplot as plt\n",
    "import pandas as pd"
   ]
  },
  {
   "cell_type": "markdown",
   "metadata": {},
   "source": [
    "  ### Гипотеза о генеральном среднем при известном стандартном октлонении"
   ]
  },
  {
   "cell_type": "markdown",
   "metadata": {},
   "source": [
    "Известны: \n",
    "  - $X \\sim N(m_0, \\sigma)$ - случайная величина, генеральная совокупность,\n",
    "  - $\\{X_i\\}_{i=1}^n$ - выборка из генеральной совкупности,\n",
    "  - $n$ - объем выборки,\n",
    "  - $\\alpha$ - надежность оценки (доверительная вероятность),\n",
    "  - $m_0$ - генеральная средняя\n",
    "  - $\\sigma^2$ - дисперсия генеральной совокупности.\n",
    "  \n",
    "$\\overline X = \\frac 1 n\\sum\\limits_{i=1}^n X_i \\Rightarrow\n",
    "      E\\overline X = m_0, \\; \n",
    "      D\\overline X = \\frac{1}{n^2}\\sum\\limits_{i=1}^{n}DX_i=\n",
    "          \\frac {\\sigma^2}{n}$\n",
    " \n",
    " Т.к. $\\overline X \\sim N(m_0, \\frac \\sigma {\\sqrt n}) \\Rightarrow\n",
    "     P(|\\overline X - m_0|<\\varepsilon)=\\alpha$, \n",
    "     \n",
    "где $\\varepsilon = z_{набл}\\cdot\\sigma$ и $z_{набл} = \\frac{\\overline X - m_0}{\\frac{\\sigma}{\\sqrt{n}}} \\sim N(0, 1)$\n",
    "     \n",
    "     \n",
    "$$H_0: \\overline X = m_0 \\notag$$\n",
    "$$H_1: \\overline X \\neq m_0 \\notag$$\n",
    "\n",
    "\n"
   ]
  },
  {
   "cell_type": "markdown",
   "metadata": {},
   "source": [
    "По выборке из 36 звонков в колл-центр найдено среднее время звонка – 20 минут. \n",
    "а) На уровне значимости 5% проверить гипотезу о том, что среднее время звонка равно 22 минутам, если известно, что стандартное отклонение длительности по всем звонкам равно 6 минутам. В качестве альтернативной взять двустороннюю.\n",
    "б) Найти р-значение. На каких уровнях значимости будет приниматься нулевая гипотеза?\n",
    "\n",
    "а) Ответ: Т.к. $z_{набл} = -2 \\; (z_{кр}=1.96)$ попало в обл. критических значений, то на уровне значимости 5% выборочные данные не соответсвуют основной гипотезе.\n",
    "б) pv = 0.0455"
   ]
  },
  {
   "cell_type": "code",
   "execution_count": 52,
   "metadata": {},
   "outputs": [
    {
     "name": "stdout",
     "output_type": "stream",
     "text": [
      "z-статистика наблюдаемой средней выборочной равна -2.0\n",
      "Критическая точка равна\n",
      "p_value равно  0.0455\n"
     ]
    }
   ],
   "source": [
    "n, X_mean, alpha, m, sigma = 36, 20, 0.05, 22, 6\n",
    "z_obs = (X_mean - m)/(sigma/n**0.5)         # value of observed data\n",
    "print('z-статистика наблюдаемой средней выборочной равна', \n",
    "      round(z_obs, 4))                      \n",
    "z_crit = round(sts.norm().ppf(alpha/2), 4)  # critical value\n",
    "print('Критическая точка равна', )\n",
    "p_val = sts.norm.cdf(z_obs) \n",
    "print('p_value равно ', round(2*p_val, 4))"
   ]
  },
  {
   "cell_type": "markdown",
   "metadata": {},
   "source": [
    "#### Гипотеза о генеральном среднем, нет генерального отклонения, выборка малая"
   ]
  },
  {
   "cell_type": "markdown",
   "metadata": {},
   "source": [
    "Известны: $n, \\; \\alpha, m, \\; \\overline X$\n",
    "$$H_0: \\overline X = m \\notag$$\n",
    "$$H_1: \\overline X \\neq \\notag m$$\n",
    "\n",
    "$t_{набл} = \\frac{\\overline X - m}{\\frac{S}{\\sqrt{n}}} \\sim T(n-1)$, где $S=\\frac{1}{n-1}\\sum\\limits_{i=1}{n}(\\overline X - X_i)^2 - $ выборочное среднее исправленное (стандартное выборочное отклонение)"
   ]
  },
  {
   "cell_type": "markdown",
   "metadata": {},
   "source": [
    "Нас интересует время, которое студенты этого года тратят на подготовку к контрольной работе. Мы опросили 14 человек и по этой выборке получили среднее 135 минут при стандартном отклонении 20 минут. \n",
    "На уровне значимости 1% проверить гипотезу о том, что матожидание времени, потраченного на подготовку, уменьшилось по сравнению с прошлогодним значением в 155 минут. Можем ли мы найти р-значение используя таблицу? На каких уровнях значимости будет приниматься нулевая гипотеза?"
   ]
  },
  {
   "cell_type": "markdown",
   "metadata": {},
   "source": [
    "Дано: $m_0 = 155, \\; n=14, \\; \\overline x = 135 \\; S=20$\n",
    "\n",
    "$H_0: m =155, \\; H_1: m < 155 \\Rightarrow t_{набл} = 3.742, \\;\n",
    "    t_{крит} = -2.65$. С учетом альтернативной гипотезы (левосторонняя) и т.к. согласно результатам значение наблюдаемого t-критерия находится в области критичесих значений у нас имеются достаточные основания отвергнуть основную гипотезу и принять альтернативную на уровне значимости 1%.\n",
    "    Значение $p_{value}$ для данной вероятностной модели равно 0.0012.\n"
   ]
  },
  {
   "cell_type": "code",
   "execution_count": 19,
   "metadata": {},
   "outputs": [
    {
     "name": "stdout",
     "output_type": "stream",
     "text": [
      "t_крит =  -2.65\n",
      "t_набл =  -3.742\n",
      "p_value =  0.0012\n"
     ]
    }
   ],
   "source": [
    "m_0, n, x_, S, alpha = 155, 14, 135, 20, 0.01\n",
    "\n",
    "t = (x_ - m_0)/(S/n**0.5)\n",
    "print('t_крит = ', round(sts.t(n-1).ppf(alpha), 3))\n",
    "print('t_набл = ', round(t, 3))\n",
    "\n",
    "p_val = sts.t(n-1).cdf(t)\n",
    "print('p_value = ', round(p_val, 4))"
   ]
  },
  {
   "cell_type": "markdown",
   "metadata": {},
   "source": [
    "### Гипотеза о генеральном стандартном отклонении, малая выборка"
   ]
  },
  {
   "cell_type": "markdown",
   "metadata": {},
   "source": [
    "Нас интересует время, которое студенты этого года тратят на подготовку к контрольной работе. Мы опросили 14 человек и по этой выборке получили среднее 135 минут при стандартном выборочном отклонении 20  минут.\n",
    "На уровне значимости 5% проверить гипотезу о том, что генеральное стандартное отклонение времени, потраченного на подготовку, уменьшилось по сравнению с прошлогодним значением в 30 минут. Можем ли мы найти р-значение используя таблицу? На каких уровнях значимости будет приниматься нулевая гипотеза?"
   ]
  },
  {
   "cell_type": "markdown",
   "metadata": {},
   "source": [
    "Дано: n = 14, $\\overline X = 135, \\; S = 20, \\sigma_0 = 30, \\alpha = 0.05$\n",
    "$$H_0: S^2 = \\sigma^2 \\notag$$\n",
    "$$H_1: S^2 < \\sigma^2 \\notag$$\n",
    "Статистический критерий $\\chi^2 = \\frac{(n-1)S^2}{\\sigma_0^2} \\sim \\chi^2(n-1)$\n",
    "\n",
    "Т.к. наблюдаемое значение статистики $\\chi_{набл}^2 = 5.7778$ попало в область критических значений $\\chi_{крит}^2 = 5.8919,$ то на уровне значимости $5\\%$ экспериментальные данные не соответствуют нулевой гипотезе. Следовательно мы отвергаем основную гипотезу и принимаем альтернативную."
   ]
  },
  {
   "cell_type": "code",
   "execution_count": 162,
   "metadata": {
    "scrolled": false
   },
   "outputs": [
    {
     "data": {
      "text/latex": [
       "$\\displaystyle \\chi_{набл}^2 \\;= \\;5.7778$"
      ],
      "text/plain": [
       "<IPython.core.display.Math object>"
      ]
     },
     "metadata": {},
     "output_type": "display_data"
    },
    {
     "data": {
      "text/latex": [
       "$\\displaystyle \\chi_{крит}^2 \\;= \\;5.8919$"
      ],
      "text/plain": [
       "<IPython.core.display.Math object>"
      ]
     },
     "metadata": {},
     "output_type": "display_data"
    },
    {
     "data": {
      "text/latex": [
       "$\\displaystyle p_{value} \\;= \\;0.0461$"
      ],
      "text/plain": [
       "<IPython.core.display.Math object>"
      ]
     },
     "execution_count": 162,
     "metadata": {},
     "output_type": "execute_result"
    }
   ],
   "source": [
    "n, X_mean, S, sigma0, alpha = 14, 135, 20, 30, 0.05\n",
    "\n",
    "chi_obs = (n-1)*S**2/sigma0**2\n",
    "txt = '= \\;' + f'{round(chi_obs, 4)}'\n",
    "display(Math('\\chi_{набл}^2 \\;' + txt))\n",
    "\n",
    "chi_crit = sts.chi2(n-1).ppf(alpha)\n",
    "txt = '= \\;' + f'{round(chi_crit, 4)}'\n",
    "display(Math('\\chi_{крит}^2 \\;' + txt))\n",
    "\n",
    "p_value = sts.chi2(n-1).cdf(chi_obs)\n",
    "txt = '= \\;' + f'{round(p_value, 4)}'\n",
    "Math('p_{value} \\;' + txt)"
   ]
  },
  {
   "cell_type": "markdown",
   "metadata": {},
   "source": [
    "### Гипотеза о равенстве генеральных средних (матожиданий) в парных выборках (малый объем)."
   ]
  },
  {
   "cell_type": "markdown",
   "metadata": {},
   "source": [
    "$\\notag\n",
    "\\begin{align}\n",
    "\\left[\n",
    "    \\begin{array}{11}\n",
    "    H_0: EX = EY \\\\\n",
    "    H_1: EX < EY\n",
    "   \\end{array}\n",
    " \\right .\n",
    "\\end{align}\n",
    "$"
   ]
  },
  {
   "cell_type": "markdown",
   "metadata": {},
   "source": [
    "Пусть $\\{X_i\\}_{i=1}^n, \\; \\{Y_i\\}_{i=1}^n$ - выборки из генеральных совокупностей $X, Y$ соответственно.\n",
    "$\\notag\n",
    "\\begin{align}\n",
    "\\left[\n",
    "    \\begin{array}{11}\n",
    "    H_0: EX = EY \\\\\n",
    "    H_1: EX < EY\n",
    "   \\end{array}\n",
    " \\right .\n",
    "\\end{align}\n",
    "\\Rightarrow$\n",
    "$\\notag\n",
    "\\begin{align}\n",
    "\\left[\n",
    "    \\begin{array}{11}\n",
    "    H_0: EX - EY = 0 \\\\\n",
    "    H_1: EX - EY < 0\n",
    "   \\end{array}\n",
    " \\right .\n",
    "\\end{align}\n",
    "\\Rightarrow$\n",
    "$\\notag\n",
    "\\begin{align}\n",
    "\\left[\n",
    "    \\begin{array}{11}\n",
    "    H_0: \\overline d = 0 \\\\\n",
    "    H_1: \\overline d < 0\n",
    "   \\end{array}\n",
    " \\right .\n",
    "\\end{align},\n",
    "$\n",
    "\n",
    "где $\\overline d = EX - EY$ \n",
    "\n",
    "Критерий: $t_{набл} = \\frac{\\overline d - m_0}{\\frac{S}{\\sqrt{n}}} \\sim T(n-1)$"
   ]
  },
  {
   "cell_type": "markdown",
   "metadata": {},
   "source": [
    "Владелец интернет магазина по продаже мини-наушников хочет обновить дизайн сайта, но боится, что пользователям это может не понравиться. Для того чтобы изучить возможную реакцию, он показывает новый вариант только некоторым пользователям, и при этом просит их пройти небольшой опрос (глупо конечно верить опросу тех, кому нужны мини-наушники (подозреваю, что это может быть смещенная выборка в плане честности), но не наше это дело – осуждать таких людей). В частности, в опросе он попросил оценить удобство использования предыдущей и новой версий сайта в 20-балльной шкале, от минимального \"невозможно пользоваться\" до максимального \"однозначно лучший сайт 2019\". \n",
    "Владелец магазина рассуждает так – если средняя оценка вырастет – это то, что мне нужно, меняем сайт, не вырастет – остаемся на старом.\n",
    "Можно ли сказать, что средняя оценка увеличилась? проверить соответствующую гипотезу на уровне значимости 2.5%. Нужно ли переходить на новый вариант?\n",
    "Оценить р-значение.\n",
    "(напомню, что по умолчанию мы считаем , что работает НЗР - наименьшая значимая разность)\n",
    "Не кажется ли результат странным?\n",
    "\n",
    "$X$ = 10, 12, 10, 12, 19, 9, 17, 13, 13, 10\n",
    "\n",
    "$Y$ = 12, 6, 12, 15, 20, 11, 19, 14, 14, 13"
   ]
  },
  {
   "cell_type": "code",
   "execution_count": 41,
   "metadata": {},
   "outputs": [
    {
     "name": "stdout",
     "output_type": "stream",
     "text": [
      "t_набл = -1.3372\n",
      "t_crit = -2.2622\n",
      "Основная гипотеза: True (средние не изменились)\n",
      "p_value =  0.107\n"
     ]
    }
   ],
   "source": [
    "X = np.array([10, 12, 10, 12, 19, 9, 17, 13, 13, 10])\n",
    "Y = np.array([12, 6, 12, 15, 20, 11, 19, 14, 14, 13])\n",
    "m_0, n, alpha, = 0, X.size, 0.025\n",
    "d = X - Y\n",
    "S = d.std(ddof=1) # corrected sample standard deviation\n",
    "\n",
    "# значение критерия Стьюдента\n",
    "t_obs = (d.mean() - m_0)/(S/np.sqrt(n))\n",
    "print('t_набл =', round(t_obs, 4))\n",
    "\n",
    "# критическая точка\n",
    "t_crit = sts.t(n-1).ppf(alpha)\n",
    "print('t_crit =', round(t_crit, 4), )\n",
    "print('Основная гипотеза:', t_crit < t_obs, '(средние не изменились)')\n",
    "\n",
    "# p_value\n",
    "p_val = sts.t(n-1).cdf(t_obs)\n",
    "print('p_value = ' , round(p_val, 3))"
   ]
  },
  {
   "cell_type": "markdown",
   "metadata": {},
   "source": [
    "#### Критерий знаков"
   ]
  },
  {
   "cell_type": "markdown",
   "metadata": {},
   "source": [
    "$$H_0: p = \\frac 1 2 \\notag$$\n",
    "$$H_1: p > \\frac 1 2 \\notag$$\n",
    "$k^+ = 1, \\; k^- = 9 \\Rightarrow k_{набл}=9$\n",
    "\n",
    "Если $H_0$, то $k_{набл} \\sim Bin(10, \\frac 1 2)$\n",
    "$p_{value} = P(k \\geq k_{набл}) = P(k=9) + P(k=10)=\n",
    "    C_{10}^9(\\frac1 2)^9 + C_10^10$\n",
    "$p_{value} = P(k \\geq k_{набл}) = P(k=9) + P(k=10)=\n",
    "    C_{10}^9(\\frac1 2)^9(\\frac1 2) + C_{10}^{10}(\\frac1 2)^{10} \\approx 0.010742$\n",
    "На уровне значимости $\\leq 1.07$ мы принимаем нулевую гипотезу как непротиворечающую $H_0$"
   ]
  },
  {
   "cell_type": "markdown",
   "metadata": {},
   "source": [
    "При этом, посмотрев внимательно на результаты опроса, любой хорошо учившийся студент поймет, что в данном случае анализ проведен странно. Наверно, владелец магазина тоже учился так себе, как и его ЦА.\n",
    "Если бы эти числа были, например, стоимостью покупок, то увеличение среднего нам было бы на руку – это свидетельствовало бы об успехе. Но в случае оценок нас должно интересовать не конкретное изменение средней оценки, а то, сколько человек считает, что новый дизайн лучше. Мы видим, что подавляющее большинство как раз так и считает, так что предыдущее решение и получившийся вывод вызывают сомнения. И мы из лекций по ТВиМС (неожиданно!) знаем, как правильно проанализировать данные.\n",
    "Решить предыдущую задачу используя критерий знаков. "
   ]
  },
  {
   "cell_type": "code",
   "execution_count": 98,
   "metadata": {},
   "outputs": [
    {
     "name": "stdout",
     "output_type": "stream",
     "text": [
      "Количество позитивных отзывов 9\n",
      "Количество отрицательных отзывов 1\n",
      "p_value = 0.0107 т.е. вероятность того, что если верна основная гипотеза \n",
      "k = 1 повторится 9 или более раз\n",
      "На уровне значимости равной 0.025 мы отвергаем нулевую гипотезу\n"
     ]
    }
   ],
   "source": [
    "X = np.array([10, 12, 10, 12, 19, 9, 17, 13, 13, 10])\n",
    "Y = np.array([12, 6, 12, 15, 20, 11, 19, 14, 14, 13])\n",
    "alpha = 0.025\n",
    "n = X.size\n",
    "d = Y - X\n",
    "\n",
    "# посчитаем кол-во \"сдвигов\" в соотетствующие стороны\n",
    "uniq, cnts = np.unique(np.sign(d), return_counts=True)\n",
    "vals = {u: c for u, c in zip(uniq, cnts)}\n",
    "print(f'Количество позитивных отзывов {vals[1]}')\n",
    "print(f'Количество отрицательных отзывов {vals[-1]}')\n",
    "\n",
    "# k ~ Bin(p, n)\n",
    "k = max(vals, key=vals.get)\n",
    "p = 1/2\n",
    "# H_0: p = 1/2, \n",
    "# H_1: p > 1/2\n",
    "\n",
    "p_val = sts.binom(n=n, p=p).cdf(k)\n",
    "print('p_value =', round(p_val, 4), end=' ')\n",
    "txt = f'''т.е. вероятность того, что если верна основная гипотеза \n",
    "k = {k} повторится {vals[k]} или более раз'''\n",
    "print(txt)\n",
    "print(f'На уровне значимости равной {alpha} мы отвергаем нулевую гипотезу')"
   ]
  },
  {
   "cell_type": "markdown",
   "metadata": {},
   "source": [
    "#### Гипотеза о значимости коэффициента корреляции Пирсона"
   ]
  },
  {
   "cell_type": "markdown",
   "metadata": {},
   "source": [
    "$r = \\frac\n",
    " {\n",
    " \\sum\\limits_{i=1}^{n}(\\overline X - X_i)\\cdot(\\overline Y-Y)\n",
    " }\n",
    " {\n",
    " \\sqrt(\\sum\\limits_{i=1}^{n}(\\overline X - X_i)^2)\n",
    " \\sqrt(\\sum\\limits_{i=1}^{n}(\\overline Y - Y_i)^2)\n",
    " }$\n",
    "$$H_0: \\rho = 0 \\notag$$\n",
    "$$\n",
    "H_1: \\rho > 0 \\notag$$\n",
    "$t_{набл} = \\frac{r\\sqrt{n-2}}{\\sqrt{1-r^2}} \\sim T(n-2)$"
   ]
  },
  {
   "cell_type": "markdown",
   "metadata": {},
   "source": [
    "Мы управляем колл-центром, и хотим, чтобы сотрудники за смену обрабатывали как можно больше звонков. Нас интересует следующее – правда ли, что чем больше стаж работника, тем больше звонков за день он обрабатывает. В таблице приведены данные по пяти сотрудникам – стаж на текущий момент (в месяцах) и количество принятых звонков за день. Найти коэффициент корреляции по этим данным. При α=1% проверить гипотезу о его значимости, в качестве альтернативной взять одностороннюю. \n",
    "\n",
    "$X$ = 10, 12, 10, 12, 19, 9, 17, 13, 13, 10\n",
    "\n",
    "$Y$ = 12, 6, 12, 15, 20, 11, 19, 14, 14, 13\n",
    "\n",
    "$\\begin{array}{|c|c|с|c|c|}\n",
    "\\hline X &7 & 8 & 10 & 9 & 6 & \\overline X = 8 \\\\ \\hline\n",
    "\\hline Y &35 & 40 & 55 & 50 & 40 & \\overline Y = 44 \\\\ \\hline\n",
    "\\hline X-\\overline X &-1 & 0 & 2 & 1 & -2 & \\\\ \\hline\n",
    "\\hline Y-\\overline Y &-9 & -4 & 11 & 6 & -4 & \\\\ \\hline\n",
    "\\hline (X-\\overline X)^2 &1 & 0 & 4 & 1 & 4 & \\sum = 10 \\\\ \\hline\n",
    "\\hline (Y-\\overline Y)^2 &81 & 16 & 121 & 36 & 16 & \\sum = 270 \\\\ \\hline\n",
    "\\hline (X-\\overline X)(Y-\\overline Y) &9 & 0 & 22 & 6 & 8 & \\sum = 45 \\\\ \\hline\n",
    "\\end{array}\n",
    "$\n",
    "$ r \\approx 0.866$"
   ]
  },
  {
   "cell_type": "code",
   "execution_count": 179,
   "metadata": {},
   "outputs": [
    {
     "name": "stdout",
     "output_type": "stream",
     "text": [
      "r =  0.866\n",
      "t_obs = 3.0\n",
      "t_crit = 4.5407\n",
      "H_0  True (!!!!!!!!!!!!!!!!!!!!выборки независимы)\n"
     ]
    }
   ],
   "source": [
    "X = [7, 8, 10, 9, 6]\n",
    "Y = [35, 40, 55, 50, 40]\n",
    "alpha, n = 0.01, len(X)\n",
    "r, p_val = sts.pearsonr(X, Y)\n",
    "print('r = ', round(r, 4))\n",
    "\n",
    "# H_0: ro = 0\n",
    "# H_1: ro > 0\n",
    "t_obs = (r*(n-2)**0.5)/(1 - r**2)**0.5\n",
    "print('t_obs =', round(t_obs, 4))\n",
    "t_crit = sts.t(n-2).isf(alpha)\n",
    "print('t_crit =', round(t_crit, 4))\n",
    "print('H_0 ', t_obs < t_crit, '(!!!!!!!!!!!!!!!!!!!!выборки независимы)')\n",
    "p_val = sts.t(n-2).sf(t_obs)"
   ]
  },
  {
   "cell_type": "markdown",
   "metadata": {},
   "source": [
    "#### Критерий $\\chi^2$ независимости номинальных признаков"
   ]
  },
  {
   "cell_type": "markdown",
   "metadata": {},
   "source": [
    "$H_0:$ признаки независимые\n",
    "\n",
    "$H_1:$ признаки зависимые\n",
    "\n",
    "$\n",
    "\\chi^2_{набл}=\\sum\\limits_{i=1}^{n}\n",
    "    \\frac{(\\text{набл част} - \\text{ожид част})^2}{\\text{ожид част}}\n",
    "    \\sim \\chi^2[(k-1)(r-1)]\n",
    "$"
   ]
  },
  {
   "cell_type": "markdown",
   "metadata": {},
   "source": [
    "Страховая компания изучает данные по 100 авариям за последний месяц. Данные собраны в таблицу сопряженности, по каждому ДТП нас интересует цвет машины и его тяжесть. На уровне значимости 1% проверить – есть ли зависимость между тяжестью ДТП и цветом машины.\n",
    "<img src='../media/crit_chi2_ind_table.jpg' width=400 height=400 >"
   ]
  },
  {
   "cell_type": "code",
   "execution_count": 180,
   "metadata": {
    "scrolled": true
   },
   "outputs": [
    {
     "data": {
      "text/latex": [
       "$\\displaystyle \\chi_{набл}^2 \\; = 10.9375$"
      ],
      "text/plain": [
       "<IPython.core.display.Math object>"
      ]
     },
     "metadata": {},
     "output_type": "display_data"
    },
    {
     "data": {
      "text/latex": [
       "$\\displaystyle \\chi_{крит}^2 \\; = 13.2767$"
      ],
      "text/plain": [
       "<IPython.core.display.Math object>"
      ]
     },
     "metadata": {},
     "output_type": "display_data"
    },
    {
     "data": {
      "text/latex": [
       "$\\displaystyle H_0 \\; is \\;True$"
      ],
      "text/plain": [
       "<IPython.core.display.Math object>"
      ]
     },
     "metadata": {},
     "output_type": "display_data"
    }
   ],
   "source": [
    "A = np.array([[15, 5, 10], [20, 5, 15], [5, 10, 15]])\n",
    "r, k = A.shape\n",
    "alpha = 0.01\n",
    "chi2_obs, p_val, _, exp = sts.chi2_contingency(A)\n",
    "display(Math('\\chi_{набл}^2 \\; = ' + f'{chi2_obs}'))\n",
    "chi2_crit = sts.chi2((k-1)*(r-1)).isf(alpha)\n",
    "display(Math('\\chi_{крит}^2 \\; = ' + f'{round(chi2_crit, 4)}'))\n",
    "display(Math('H_0 \\; is \\;' + str(chi2_obs < chi2_crit)))"
   ]
  },
  {
   "cell_type": "markdown",
   "metadata": {},
   "source": [
    "#### Критерий согласия $\\chi^2$ для сравнения частот категориальных переменных"
   ]
  },
  {
   "cell_type": "markdown",
   "metadata": {},
   "source": [
    "* общее количество наблюдений (сумма частот) должна быть не менее 50 и ожидаемая частота в каждой группе должна быть не менее 5.\n",
    "$H_0$ - признак в ГС распределен с $F_0(x)$\n",
    "\n",
    "$H_1$ - призрак распределен по другому закону\n",
    "\n",
    "$ \n",
    "\\chi^2_{набл}=\\sum\\limits_{i=1}^{n}\n",
    "    \\frac{(\\text{набл част} - \\text{ожид част})^2}{\\text{ожид част}}\n",
    "    \\sim \\chi^2(k-1)\n",
    "$, где $k$ - количество групп и $\\|k_i\\| \\geq 5, \\; i=\\overline{1, n}$ - иначе малые группы всё занулят."
   ]
  },
  {
   "cell_type": "markdown",
   "metadata": {},
   "source": [
    "Студенты пишут контрольную, состоящую из десяти задач. Преподаватель считает,  что каждый из студентов решит любую из этих задач с вероятностью 0.8 (вы скажете \"совсем не похоже на правду!\", но мы пожалеем наших воображаемых студентов). За каждую задачу ставится 0 либо 1, оценка за работу – сумма. \n",
    "Результаты проверки 50 случайно отобранных работ приведены в таблице. На уровне значимости 2.5% проверить гипотезу преподавателя.\n",
    "\n",
    "Традиционно считаем, что все студенты решают задачи независимо друг от друга и от других задач (снова довольно сильное утверждение, но мы доверяем нашим воображаемым студентам)"
   ]
  },
  {
   "cell_type": "code",
   "execution_count": 159,
   "metadata": {
    "scrolled": true
   },
   "outputs": [
    {
     "data": {
      "text/html": [
       "<div>\n",
       "<style scoped>\n",
       "    .dataframe tbody tr th:only-of-type {\n",
       "        vertical-align: middle;\n",
       "    }\n",
       "\n",
       "    .dataframe tbody tr th {\n",
       "        vertical-align: top;\n",
       "    }\n",
       "\n",
       "    .dataframe thead th {\n",
       "        text-align: right;\n",
       "    }\n",
       "</style>\n",
       "<table border=\"1\" class=\"dataframe\">\n",
       "  <thead>\n",
       "    <tr style=\"text-align: right;\">\n",
       "      <th></th>\n",
       "      <th>obs</th>\n",
       "      <th>exp</th>\n",
       "      <th>$ \\dfrac {(exp-obs)^2}{exp} $</th>\n",
       "    </tr>\n",
       "  </thead>\n",
       "  <tbody>\n",
       "    <tr>\n",
       "      <th>1</th>\n",
       "      <td>4.0</td>\n",
       "      <td>5.370</td>\n",
       "      <td>0.34952</td>\n",
       "    </tr>\n",
       "    <tr>\n",
       "      <th>2</th>\n",
       "      <td>6.0</td>\n",
       "      <td>13.420</td>\n",
       "      <td>4.10256</td>\n",
       "    </tr>\n",
       "    <tr>\n",
       "      <th>3</th>\n",
       "      <td>18.0</td>\n",
       "      <td>15.100</td>\n",
       "      <td>0.55695</td>\n",
       "    </tr>\n",
       "    <tr>\n",
       "      <th>4</th>\n",
       "      <td>15.0</td>\n",
       "      <td>10.065</td>\n",
       "      <td>2.41969</td>\n",
       "    </tr>\n",
       "    <tr>\n",
       "      <th>5</th>\n",
       "      <td>7.0</td>\n",
       "      <td>5.725</td>\n",
       "      <td>0.28395</td>\n",
       "    </tr>\n",
       "  </tbody>\n",
       "</table>\n",
       "</div>"
      ],
      "text/plain": [
       "    obs     exp  $ \\dfrac {(exp-obs)^2}{exp} $\n",
       "1   4.0   5.370                        0.34952\n",
       "2   6.0  13.420                        4.10256\n",
       "3  18.0  15.100                        0.55695\n",
       "4  15.0  10.065                        2.41969\n",
       "5   7.0   5.725                        0.28395"
      ]
     },
     "metadata": {},
     "output_type": "display_data"
    },
    {
     "data": {
      "text/latex": [
       "$\\displaystyle \\chi_{набл}^2 \\; = 7.713$"
      ],
      "text/plain": [
       "<IPython.core.display.Math object>"
      ]
     },
     "metadata": {},
     "output_type": "display_data"
    },
    {
     "data": {
      "text/latex": [
       "$\\displaystyle \\chi_{крит}^2 \\; = 11.143$"
      ],
      "text/plain": [
       "<IPython.core.display.Math object>"
      ]
     },
     "metadata": {},
     "output_type": "display_data"
    },
    {
     "data": {
      "text/latex": [
       "$\\displaystyle H_0 \\; is \\;True$"
      ],
      "text/plain": [
       "<IPython.core.display.Math object>"
      ]
     },
     "metadata": {},
     "output_type": "display_data"
    }
   ],
   "source": [
    "# H0: Bin(n=10, p=0.8)\n",
    "# H1: иначе\n",
    "\n",
    "alpha, p, n, N = 0.025, 0.8, 10, 50\n",
    "data = {10: 4, 9: 6, 8: 18, 7: 15, 6: 4, 5: 3}\n",
    "df = pd.DataFrame(data.values(), index=data.keys(), columns=['obs'])\n",
    "df['exp'] = N*sts.binom(n, p).pmf(list(data.keys())).round(4)\n",
    "\n",
    "t = df.loc[df['exp'] < 5, :].sum()\n",
    "t = pd.DataFrame(t.values.reshape(1, -1), \n",
    "                 columns=z.index)\n",
    "df = pd.concat([df.loc[df['exp'] > 5, :], t], axis=0)\n",
    "df.index = list(range(1, df.shape[0]+1))\n",
    "stdrt = ((df['obs']-df['exp'])**2/df['exp']).round(5)\n",
    "df['$ \\dfrac {(exp-obs)^2}{exp} $'] = stdrt\n",
    "display(df)\n",
    "chi2_obs = df.iloc[:, 2].sum().round(3)\n",
    "display(Math('\\chi_{набл}^2 \\; = ' + f'{chi2_obs}'))\n",
    "chi2_crit = sts.chi2(df.shape[0]-1).isf(alpha).round(3)\n",
    "display(Math('\\chi_{крит}^2 \\; = ' + f'{chi2_crit}'))\n",
    "display(Math('H_0 \\; is \\;' + str(chi2_obs < chi2_crit)))"
   ]
  }
 ],
 "metadata": {
  "kernelspec": {
   "display_name": "Python 3",
   "language": "python",
   "name": "python3"
  },
  "language_info": {
   "codemirror_mode": {
    "name": "ipython",
    "version": 3
   },
   "file_extension": ".py",
   "mimetype": "text/x-python",
   "name": "python",
   "nbconvert_exporter": "python",
   "pygments_lexer": "ipython3",
   "version": "3.7.7"
  },
  "latex_envs": {
   "LaTeX_envs_menu_present": true,
   "autoclose": false,
   "autocomplete": false,
   "bibliofile": "biblio.bib",
   "cite_by": "apalike",
   "current_citInitial": 1,
   "eqLabelWithNumbers": false,
   "eqNumInitial": 1,
   "hotkeys": {
    "equation": "Ctrl-E",
    "itemize": "Ctrl-I"
   },
   "labels_anchors": false,
   "latex_user_defs": false,
   "report_style_numbering": false,
   "user_envs_cfg": false
  }
 },
 "nbformat": 4,
 "nbformat_minor": 4
}
