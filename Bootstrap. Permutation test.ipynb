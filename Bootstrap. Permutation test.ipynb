{
 "cells": [
  {
   "cell_type": "code",
   "execution_count": 41,
   "metadata": {},
   "outputs": [],
   "source": [
    "import matplotlib.pyplot as plt\n",
    "import numpy as np\n",
    "import scipy.stats as sts\n",
    "plt.style.use('dark_background')"
   ]
  },
  {
   "cell_type": "markdown",
   "metadata": {},
   "source": [
    "### Bootstrap\n",
    "По материалам [Бутстрап, или прикладная статистика почти без формул](https://habr.com/ru/post/192000/)"
   ]
  },
  {
   "cell_type": "markdown",
   "metadata": {},
   "source": [
    "В тестовой группе из 893 пришедших у нас что-то купили 34, а в контрольной группе из 923 пришедших что-то купили 28.\n",
    "$X_1$, $X_2$ - при большом количестве наблюдений биномиальное распределение похоже на нормальное. Нас интересует разность. Нормальное распределение бесконечно делимо, вычитаем матожидания и складываем дисперсии.\n",
    "$E = X_1 - X_2, \\; D = (p_1*(1-p_1)) + (p_2*(1-p_2)), \\; \\sigma = \\sqrt{D}$\n",
    "\n",
    "$P(|E-X|<2\\sigma) = P(E-2\\sigma < X < E + 2\\sigma) = 2F_0(2) \\approx 0.95$"
   ]
  },
  {
   "cell_type": "code",
   "execution_count": 2,
   "metadata": {},
   "outputs": [
    {
     "name": "stdout",
     "output_type": "stream",
     "text": [
      "Conversion of A: 3.8074%\n",
      "Conversion of B: 3.0336%\n",
      "Observed difference: 0.7738%\n"
     ]
    }
   ],
   "source": [
    "A_n, B_n = 893, 923\n",
    "A_pos, B_pos = 34, 28\n",
    "A_conv, B_conv = A_pos/A_n, B_pos/B_n\n",
    "o_diff = A_conv - B_conv\n",
    "print('Conversion of A:', str(round(A_conv*100, 4)) + '%')\n",
    "print('Conversion of B:', str(round(B_conv*100, 4)) + '%')\n",
    "print('Observed difference:', str(round(o_diff, 6)*100) + '%')"
   ]
  },
  {
   "cell_type": "code",
   "execution_count": 3,
   "metadata": {},
   "outputs": [
    {
     "name": "stdout",
     "output_type": "stream",
     "text": [
      "(893,) (923,)\n"
     ]
    },
    {
     "data": {
      "text/plain": [
       "(0.03807390817469205, 0.030335861321776816)"
      ]
     },
     "execution_count": 3,
     "metadata": {},
     "output_type": "execute_result"
    }
   ],
   "source": [
    "A_ones, B_ones = np.ones(A_pos), np.ones(B_pos)\n",
    "A_zeros, B_zeros = np.zeros(A_n - A_pos), np.zeros(B_n - B_pos)\n",
    "A_sample, B_sample = np.r_[A_ones, A_zeros], np.r_[B_ones, B_zeros]\n",
    "print(A_sample.shape, B_sample.shape)\n",
    "A_sample.mean(), B_sample.mean()"
   ]
  },
  {
   "cell_type": "code",
   "execution_count": 4,
   "metadata": {},
   "outputs": [
    {
     "name": "stdout",
     "output_type": "stream",
     "text": [
      "CPU times: user 9.08 s, sys: 324 ms, total: 9.4 s\n",
      "Wall time: 14 s\n"
     ]
    }
   ],
   "source": [
    "%%time\n",
    "A_convs, B_convs, diffs = [], [], []\n",
    "\n",
    "for i in range(int(1e+5)):\n",
    "    \n",
    "    A_idx = np.random.randint(A_sample.shape, size=A_sample.shape)\n",
    "    B_idx = np.random.randint(B_sample.shape, size=B_sample.shape)\n",
    "    A_mean, B_mean = A_sample[A_idx].mean(), B_sample[B_idx].mean()\n",
    "    A_convs.append(A_mean), B_convs.append(B_mean)\n",
    "    diffs.append(A_mean - B_mean)"
   ]
  },
  {
   "cell_type": "code",
   "execution_count": 5,
   "metadata": {},
   "outputs": [
    {
     "data": {
      "image/png": "[encoded data removed]",
      "text/plain": [
       "<Figure size 432x288 with 1 Axes>"
      ]
     },
     "metadata": {},
     "output_type": "display_data"
    }
   ],
   "source": [
    "plt.hist(A_convs, bins=100, color='r', label='A')\n",
    "plt.hist(B_convs, bins=100, color='y', label='B')\n",
    "plt.hist(diffs, bins=100, label='diff')\n",
    "plt.legend()\n",
    "plt.show()"
   ]
  },
  {
   "cell_type": "code",
   "execution_count": 6,
   "metadata": {},
   "outputs": [
    {
     "name": "stdout",
     "output_type": "stream",
     "text": [
      "Confidence interval:  -0.64575%, 2.20415%\n"
     ]
    }
   ],
   "source": [
    "alpha = 0.05\n",
    "l, h = np.quantile(diffs, [alpha, 1-alpha])\n",
    "conf_int = (round(l*100, 4), round(h*100, 4))\n",
    "conf_int = list(map(lambda x: str(x)+'5%', conf_int))\n",
    "print('Confidence interval: ', ', '.join(conf_int))"
   ]
  },
  {
   "cell_type": "code",
   "execution_count": 7,
   "metadata": {},
   "outputs": [
    {
     "name": "stdout",
     "output_type": "stream",
     "text": [
      "Confidence interval:  -0.6304%, 2.178%\n"
     ]
    }
   ],
   "source": [
    "# доверительный интервал с помощью z-критерия\n",
    "std = np.sqrt(A_conv*(1-A_conv)/A_n + B_conv*(1-B_conv)/B_n)\n",
    "E = A_conv - B_conv\n",
    "\n",
    "conf_int = E - sts.norm().isf(0.05)*std, E + sts.norm().isf(0.05)*std\n",
    "conf_int = (str(round(i*100, 4))+'%' for i in conf_int)\n",
    "\n",
    "print('Confidence interval: ', ', '.join(conf_int))"
   ]
  },
  {
   "cell_type": "markdown",
   "metadata": {},
   "source": [
    "### Permutation test. P-value"
   ]
  },
  {
   "cell_type": "markdown",
   "metadata": {},
   "source": [
    "По материалам из книги ***\"Practival Statistics for Data Scientists\" by Peter Bruce and Andrew Bruce*** (page 180)."
   ]
  },
  {
   "cell_type": "markdown",
   "metadata": {},
   "source": [
    "$\n",
    "\\begin{array}{|c|c|с|}\n",
    "\\hline Outcome         & Price A & Price B      \\\\\\hline\n",
    "\\hline Conversion      & 200       & 182        \\\\\\hline\n",
    "\\hline No\\;Conversion   & 23569     & 22406      \\\\\\hline\n",
    "\\end{array}\n",
    "$\n",
    "\n",
    "- $H_0:$ there is no difference between the rates.\n",
    "- $H_1:$ the difference is statistically significant."
   ]
  },
  {
   "cell_type": "code",
   "execution_count": 8,
   "metadata": {},
   "outputs": [
    {
     "name": "stdout",
     "output_type": "stream",
     "text": [
      "Conversion of A: 0.8425%\n",
      "Conversion of B: 0.8057%\n",
      "Observed difference: 0.0368%\n"
     ]
    }
   ],
   "source": [
    "A_pos, A_neg = 200, 23539\n",
    "B_pos, B_neg = 182, 22406\n",
    "A, B = (A_pos + A_neg), (B_pos + B_neg)\n",
    "A_conv, B_conv = A_pos/A, B_pos/B\n",
    "o_diff = A_conv - B_conv  # observed difference\n",
    "\n",
    "print('Conversion of A:', str(round(A_conv, 6)*100) + '%')\n",
    "print('Conversion of B:', str(round(B_conv, 6)*100) + '%')\n",
    "print('Observed difference:', str(round(o_diff, 6)*100) + '%')"
   ]
  },
  {
   "cell_type": "code",
   "execution_count": 9,
   "metadata": {},
   "outputs": [
    {
     "name": "stdout",
     "output_type": "stream",
     "text": [
      "CPU times: user 12.3 s, sys: 279 ms, total: 12.5 s\n",
      "Wall time: 16.7 s\n"
     ]
    }
   ],
   "source": [
    "%%time\n",
    "ones, zeros = np.ones(A_pos + B_pos), np.zeros(A_neg + B_neg)\n",
    "sample = np.r_[ones, zeros]\n",
    "# ones.shape, zeros.shape, sample.shape\n",
    "\n",
    "diffs = []\n",
    "\n",
    "for i in range(int(1e+4)):\n",
    "    A_sample = np.random.choice(sample, A)\n",
    "    B_sample = np.random.choice(sample, B)\n",
    "    diff = A_sample.mean() - B_sample.mean()\n",
    "    diffs.append(diff)"
   ]
  },
  {
   "cell_type": "code",
   "execution_count": 16,
   "metadata": {},
   "outputs": [
    {
     "name": "stdout",
     "output_type": "stream",
     "text": [
      "p-value 0.3271\n"
     ]
    }
   ],
   "source": [
    "diffs = np.array(diffs)\n",
    "p_val = sum(diffs > o_diff)/len(diffs)\n",
    "print('p-value', p_val)"
   ]
  },
  {
   "cell_type": "code",
   "execution_count": 35,
   "metadata": {
    "scrolled": true
   },
   "outputs": [
    {
     "data": {
      "image/png": "[encoded data removed]",
      "text/plain": [
       "<Figure size 432x288 with 1 Axes>"
      ]
     },
     "metadata": {},
     "output_type": "display_data"
    }
   ],
   "source": [
    "plt.hist(diffs, bins=100, color='r', alpha=0.8, label='boostrap')\n",
    "plt.plot([o_diff, o_diff], [0, 350], color='b', label='observed', linewidth=5)\n",
    "plt.legend()\n",
    "plt.show()"
   ]
  }
 ],
 "metadata": {
  "kernelspec": {
   "display_name": "Python 3",
   "language": "python",
   "name": "python3"
  },
  "language_info": {
   "codemirror_mode": {
    "name": "ipython",
    "version": 3
   },
   "file_extension": ".py",
   "mimetype": "text/x-python",
   "name": "python",
   "nbconvert_exporter": "python",
   "pygments_lexer": "ipython3",
   "version": "3.7.7"
  },
  "latex_envs": {
   "LaTeX_envs_menu_present": true,
   "autoclose": false,
   "autocomplete": false,
   "bibliofile": "biblio.bib",
   "cite_by": "apalike",
   "current_citInitial": 1,
   "eqLabelWithNumbers": false,
   "eqNumInitial": 1,
   "hotkeys": {
    "equation": "Ctrl-E",
    "itemize": "Ctrl-I"
   },
   "labels_anchors": false,
   "latex_user_defs": false,
   "report_style_numbering": false,
   "user_envs_cfg": false
  }
 },
 "nbformat": 4,
 "nbformat_minor": 4
}
