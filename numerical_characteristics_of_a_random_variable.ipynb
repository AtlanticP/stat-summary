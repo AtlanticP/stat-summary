{
 "cells": [
  {
   "cell_type": "markdown",
   "metadata": {},
   "source": [
    "#### <span style=\"color:blue\">Матожидание, дисперсия и моменты k-го порядка</span>\n",
    "https://nsu.ru/mmf/tvims/chernova/tv/lec/node44.html#3280\n",
    "#Сердобольская М.Л. (л7),"
   ]
  },
  {
   "cell_type": "markdown",
   "metadata": {},
   "source": [
    "***Математическое ожидание***\n",
    "\n",
    "$\n",
    "\\begin{equation}\n",
    "    E_{\\xi}= \\int_{-\\infty}^{\\infty}xdF_\\xi(x) \\overset{def}{=} \\\\\n",
    "    \\overset{def}{=} \\begin{cases}\n",
    "        \\pmb{(Д)} \\sum_{k=1}^{n}x_{k}p_{k} \\text{, где } p_{k}=P(\\xi(\\omega)=x_{k})\\\\\n",
    "        \\pmb{(АН)}\\int_{-\\infty}^{\\infty}xp_\\xi(x)dx \\text{, где } p_{\\xi}(x) \\text{- функция плотности} \\\\ \n",
    "        \\qquad\\qquad \\text{распределения случайной величины} \\; \\xi \\\\\n",
    "        \\pmb{(совместное)}\\sum_{k=1}^{n}x_{k}p_{k}+\\int_{-\\infty}^{\\infty} xp_\\xi(x)dx, \\\\ \n",
    "         \\qquad\\qquad \\text{если существуют участки, где }p'_{\\xi}(x) \\neq 0\n",
    "    \\end{cases}\n",
    "\\end{equation}\n",
    "$\n",
    "\n",
    "<ul>\n",
    "    <li>$E_\\xi \\Leftrightarrow$ ряд/интеграл сходится абсолютно;</li>\n",
    "    <li>\n",
    "        $g: \\Re \\rightarrow \\Re \\Rightarrow \n",
    "    E_{g(\\xi)}=\\int_{-\\infty}^{\\infty}g(x)dF_\\xi(x) \\\\\n",
    "g: \\Re^n \\rightarrow \\Re \\Rightarrow  E_{g(\\xi_{1}, ..., \\xi_{n})}=\n",
    "       \\int_{-\\infty}^{\\infty}...\n",
    "           \\int_{-\\infty}^{\\infty}g(x_{1},...,x_{n})\n",
    "        dF_{\\xi_{1}, ..., \\xi_{n}}(x)$\n",
    "    </li>\n",
    "</ul>"
   ]
  },
  {
   "cell_type": "markdown",
   "metadata": {},
   "source": [
    "***Свойства математического ожидания:***\n",
    "1. $E_{a\\xi+b}=aE_\\xi+b$, где a, b - const \n",
    "2. $E_{\\xi_{1}+...+\\xi_{n}} = E_{\\xi_{1}}+...+E_{\\xi_{n}}$\n",
    "3. $\\xi_{1},...,\\xi_{n} \\text{- НСВ} \\Rightarrow \n",
    "E(\\prod_{k=1}^{n}\\xi_{k})=\\prod_{k=1}^{n}E_{\\xi_{k}}$"
   ]
  },
  {
   "cell_type": "markdown",
   "metadata": {},
   "source": [
    "***Дисперсия и моменты k-го порядка***\n",
    "<ul>\n",
    "    <li>Число $E\\xi^k$ называется <b>моментом порядка k или k-м моментом случайной величины $\\xi$</b>.\n",
    "    <li>число $E|\\xi|^k$ называется <b>абсолютным k-м моментом</b>,\n",
    "    <li>число $E(\\xi - E\\xi)^k$ называется <b>центральным k-м моментом</b>,\n",
    "    <li>число $E|\\xi - E\\xi|^k$ называется <b>центральным абсолютным k-м моментом случайной величины $\\xi$</b>.\n",
    "</ul>"
   ]
  },
  {
   "cell_type": "markdown",
   "metadata": {},
   "source": [
    "***Дисперсией*** называется число $E(\\xi - E\\xi)^k$ - <b>центральный момент второго порядка</b> или среднее значение квадрата отклонения случайной величины от своего среднего:\n",
    "$D_{\\xi}(x) \\overset{def}{=} E(\\xi - E_{\\xi})^2 = E_{\\xi^2} - (E_{\\xi})^2$\n",
    "<ul>\n",
    "    <li>(Д) $D(x)=\\sum_{k}^{n}x^2p_{k} - (\\sum_{k}^{n}xp_{k})^2 \\text{, где } p_{k}=P(\\xi(\\omega)=x_{k})$,\n",
    "    <li>(АН)$D(x)=\\int_{-\\infty}^{\\infty}x^2p(x)dx - (\\int_{-\\infty}^{\\infty}xp(x)dx)^2 \\text{, где } p(x)$ - функция плотности распределения случайной величины $\\xi$.\n",
    "</ul>       "
   ]
  },
  {
   "cell_type": "markdown",
   "metadata": {},
   "source": [
    "***Коэффициент ковариации*** случайных величин $\\xi$ и $\\eta$ - это число, которое вычисляется по формуле:\n",
    "$$ cov_{\\xi,\\eta} \\overset{def}{=} E_{(\\xi-E_{\\xi})(\\eta-E_{\\eta})}$$\n",
    "***Свойства*** коэффициента ковариации:\n",
    "\n",
    "1. $cov_{\\xi,\\eta} = E_{\\xi\\eta}-E_\\xi E_\\eta$\n",
    "2. $cov_{\\xi, \\xi} = D_\\xi$\n",
    "3. Если $\\xi,\\;\\eta$ - НСВ, то $cov_{\\xi, \\eta}=E_{\\xi \\eta}-E_\\xi E_\\eta = 0$ \n"
   ]
  },
  {
   "cell_type": "markdown",
   "metadata": {},
   "source": [
    "***Свойства дисперсии:***\n",
    "1. $D_{a\\xi+b}=E_{[a\\xi+b-E(a\\xi+b)]^2}=E_{[a\\xi+b+aE\\xi-b]^2}=\n",
    "E_{[a\\xi -aE\\xi]^2}=a^2E_{\\xi}, \\\\ \\text{ где } a,\\;b \\in \\Re$ \n",
    "2. $D(\\xi+\\eta)=E(\\xi+\\eta)^2 - (E\\xi+E\\eta)^2 = \\\\\n",
    "= E_{\\xi^2} + 2E(\\xi\\cdot\\eta) + E_{\\eta^2} -\n",
    "    (E_\\xi)^2 - 2E_\\xi E_\\eta + (E_{\\eta})^2 = \\\\\n",
    "= E_{\\xi^2} - (E_\\xi)^2 + E_{\\eta^2} - (E_{\\eta})^2 +\n",
    "    2(E_{\\xi\\cdot\\eta} - E_\\xi E_\\eta) = D_\\xi + D_\\eta + 2cov(\\xi, \\eta)$\n",
    "3. Если $\\xi, \\eta$ независимые СВ, то $D(\\xi+\\eta) = D_{\\xi}+ D_{\\eta}$"
   ]
  },
  {
   "cell_type": "markdown",
   "metadata": {},
   "source": [
    "$D(\\xi+\\eta)=E(\\xi+\\eta)^2 - (E\\xi+E\\eta)^2 = \n",
    "    E_{\\xi^2} + 2E(\\xi\\cdot\\eta) + E_{\\eta^2} -\n",
    "    (E_\\xi)^2 - 2E_\\xi E_\\eta + (E_{\\eta})^2 = \n",
    "E_{\\xi^2} - (E_\\xi)^2 + E_{\\eta^2} - (E_{\\eta})^2 +\n",
    "    2(E(\\xi\\cdot\\eta) - E_\\xi E_\\eta = D_\\xi + D_\\eta - 2cov(\\xi, \\eta)$"
   ]
  },
  {
   "cell_type": "markdown",
   "metadata": {},
   "source": [
    "#### 2.6 Производящая функция\n",
    "\n",
    "Пусть ДСВ $\\xi$ принимает значения: $0, 1, 2,..., k,...$ с вероятностью $p_0, p_1, ..., p_k={\\xi=k},... $\n",
    "***Производящей функцией*** для ДСВ $\\xi$ называется функция вида\n",
    "$$ \\Phi_\\xi(z) = \\sum\\limits_{k=0}^\\infty p_kz^k=p_0+p_1z+p_2z^2+..., $$\n",
    "где $z$ - произвольный параметр: $0<z\\leq1$\n",
    "\n",
    "$$\n",
    "\\Phi_\\xi'(z) = \\sum\\limits_{k=0}^\\infty kp_kz^{k-1} \\Rightarrow \n",
    "\\Phi_\\xi'(1) = \\boxed{\\sum\\limits_{k=0}^\\infty kp_k = E_\\xi}\n",
    "$$\n",
    "\n",
    "$$\n",
    "\\Phi_\\xi''(z) = \\sum\\limits_{k=0}^\\infty k(k-1)p_kz^{k-2} \\Rightarrow \n",
    "\\Phi_\\xi''(1) = \\boxed{\\sum\\limits_{k=0}^\\infty k^2p_k - \\sum\\limits_{k=0}^\\infty kp_k = E_{\\xi^2}-E_{\\xi}}\n",
    "$$\n",
    "\n",
    "$$\n",
    "\\text{Т.к. } D_\\xi=E_\\xi^2-(E_\\xi)^2 \\Rightarrow \\boxed{D_\\xi=\\Phi''(1) + \\Phi'(1) - (\\Phi'(1))^2}\n",
    "$$\n"
   ]
  },
  {
   "cell_type": "code",
   "execution_count": 3,
   "metadata": {},
   "outputs": [
    {
     "name": "stdout",
     "output_type": "stream",
     "text": [
      "Производящая функция\n"
     ]
    },
    {
     "data": {
      "text/latex": [
       "$\\displaystyle 0.729 z^{3} + 0.243 z^{2} + 0.027 z + 0.01$"
      ],
      "text/plain": [
       "0.729*z**3 + 0.243*z**2 + 0.027*z + 0.01"
      ]
     },
     "metadata": {},
     "output_type": "display_data"
    },
    {
     "name": "stdout",
     "output_type": "stream",
     "text": [
      "Дисперсия СВ равна 0.269999999999998\n"
     ]
    }
   ],
   "source": [
    "from sympy import symbols\n",
    "z = symbols('z')\n",
    "P = [0.01, 0.027, 0.243, 0.729]\n",
    "f = sum([p*z**i for i, p in enumerate(P)])\n",
    "print('Производящая функция')\n",
    "display(f)\n",
    "D = f.diff(z, 2) + f.diff(z, 1) - f.diff(z, 1)**2\n",
    "print(f'Дисперсия СВ равна {D.subs(z, 1 )}')\n"
   ]
  }
 ],
 "metadata": {
  "kernelspec": {
   "display_name": "Python 3",
   "language": "python",
   "name": "python3"
  },
  "language_info": {
   "codemirror_mode": {
    "name": "ipython",
    "version": 3
   },
   "file_extension": ".py",
   "mimetype": "text/x-python",
   "name": "python",
   "nbconvert_exporter": "python",
   "pygments_lexer": "ipython3",
   "version": "3.7.7"
  },
  "latex_envs": {
   "LaTeX_envs_menu_present": true,
   "autoclose": false,
   "autocomplete": true,
   "bibliofile": "biblio.bib",
   "cite_by": "apalike",
   "current_citInitial": 1,
   "eqLabelWithNumbers": false,
   "eqNumInitial": 1,
   "hotkeys": {
    "equation": "Ctrl-E",
    "itemize": "Ctrl-I"
   },
   "labels_anchors": false,
   "latex_user_defs": false,
   "report_style_numbering": false,
   "user_envs_cfg": false
  }
 },
 "nbformat": 4,
 "nbformat_minor": 4
}
